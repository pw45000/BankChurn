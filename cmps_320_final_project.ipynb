{
 "cells": [
  {
   "cell_type": "code",
   "execution_count": 1,
   "id": "9eae57f8",
   "metadata": {},
   "outputs": [],
   "source": [
    "import matplotlib.pyplot as plt\n",
    "import pandas as pd\n",
    "import numpy as np \n",
    "import seaborn as sns "
   ]
  },
  {
   "cell_type": "code",
   "execution_count": 2,
   "id": "9e7c7b1b",
   "metadata": {},
   "outputs": [],
   "source": [
    "df = pd.read_csv('BankChurners.csv')"
   ]
  },
  {
   "cell_type": "markdown",
   "id": "3446a259",
   "metadata": {},
   "source": [
    "## Removing Columns Irrelevant to the Project"
   ]
  },
  {
   "cell_type": "markdown",
   "id": "b67cf962",
   "metadata": {},
   "source": [
    "While examing the dataset in Kaggle and reviewing the documented information, it was decided that a few columns would be initially removed. Two columns were placed at the end of the dataset were recommended to be deleted by the creator. After trying to identify the columns, the conclusion was drawn that the columns were not worth keeping. Another column we dropped from the table was the client number. Because the column is a unique identifier to the customer and has no perceived statistical value based on our opinions, it was removed."
   ]
  },
  {
   "cell_type": "code",
   "execution_count": 3,
   "id": "6b4a84b8",
   "metadata": {},
   "outputs": [],
   "source": [
    "new_df = df.drop(['CLIENTNUM','Naive_Bayes_Classifier_Attrition_Flag_Card_Category_Contacts_Count_12_mon_Dependent_count_Education_Level_Months_Inactive_12_mon_1','Naive_Bayes_Classifier_Attrition_Flag_Card_Category_Contacts_Count_12_mon_Dependent_count_Education_Level_Months_Inactive_12_mon_2'],axis=1)"
   ]
  },
  {
   "cell_type": "markdown",
   "id": "54e924e6",
   "metadata": {},
   "source": [
    "To get a broad perspective on the data, we decided to use the .info() method to provide us with the null count, and data type of each column."
   ]
  },
  {
   "cell_type": "code",
   "execution_count": 4,
   "id": "f49f69b6",
   "metadata": {},
   "outputs": [
    {
     "name": "stdout",
     "output_type": "stream",
     "text": [
      "<class 'pandas.core.frame.DataFrame'>\n",
      "RangeIndex: 10127 entries, 0 to 10126\n",
      "Data columns (total 20 columns):\n",
      " #   Column                    Non-Null Count  Dtype  \n",
      "---  ------                    --------------  -----  \n",
      " 0   Attrition_Flag            10127 non-null  object \n",
      " 1   Customer_Age              10127 non-null  int64  \n",
      " 2   Gender                    10127 non-null  object \n",
      " 3   Dependent_count           10127 non-null  int64  \n",
      " 4   Education_Level           10127 non-null  object \n",
      " 5   Marital_Status            10127 non-null  object \n",
      " 6   Income_Category           10127 non-null  object \n",
      " 7   Card_Category             10127 non-null  object \n",
      " 8   Months_on_book            10127 non-null  int64  \n",
      " 9   Total_Relationship_Count  10127 non-null  int64  \n",
      " 10  Months_Inactive_12_mon    10127 non-null  int64  \n",
      " 11  Contacts_Count_12_mon     10127 non-null  int64  \n",
      " 12  Credit_Limit              10127 non-null  float64\n",
      " 13  Total_Revolving_Bal       10127 non-null  int64  \n",
      " 14  Avg_Open_To_Buy           10127 non-null  float64\n",
      " 15  Total_Amt_Chng_Q4_Q1      10127 non-null  float64\n",
      " 16  Total_Trans_Amt           10127 non-null  int64  \n",
      " 17  Total_Trans_Ct            10127 non-null  int64  \n",
      " 18  Total_Ct_Chng_Q4_Q1       10127 non-null  float64\n",
      " 19  Avg_Utilization_Ratio     10127 non-null  float64\n",
      "dtypes: float64(5), int64(9), object(6)\n",
      "memory usage: 1.5+ MB\n"
     ]
    }
   ],
   "source": [
    "new_df.info()"
   ]
  },
  {
   "cell_type": "markdown",
   "id": "770467fd",
   "metadata": {},
   "source": [
    "The next step in interpreting our table was to look at the variable we were trying to predict. The attrition_flag columns identifies whether the customer is still with the company. Since this is a binary target, we interpreted the data as such: zero if the customer exists with the company, one otherwise."
   ]
  },
  {
   "cell_type": "code",
   "execution_count": 5,
   "id": "bbe3bf5c",
   "metadata": {},
   "outputs": [
    {
     "data": {
      "text/plain": [
       "Existing Customer    8500\n",
       "Attrited Customer    1627\n",
       "Name: Attrition_Flag, dtype: int64"
      ]
     },
     "execution_count": 5,
     "metadata": {},
     "output_type": "execute_result"
    }
   ],
   "source": [
    "new_df['Attrition_Flag'].value_counts()"
   ]
  },
  {
   "cell_type": "code",
   "execution_count": 6,
   "id": "600f46f5",
   "metadata": {},
   "outputs": [],
   "source": [
    "new_df['binary_attrition'] = [0 if x == \"Existing Customer\" else 1 for x in new_df['Attrition_Flag']]\n",
    "# ^^Using a list comprehension to assign a 1 or 0"
   ]
  },
  {
   "cell_type": "code",
   "execution_count": 7,
   "id": "33022dbb",
   "metadata": {},
   "outputs": [
    {
     "name": "stdout",
     "output_type": "stream",
     "text": [
      "Comparing the value counts of the original attrition to the converted attrition:\n",
      "\n",
      " \n",
      "Original - [8500 1627] \n",
      "\n",
      " New - [8500 1627]\n"
     ]
    }
   ],
   "source": [
    "print(f\"\"\"Comparing the value counts of the original attrition to the converted attrition:\\n\\n \n",
    "Original - {new_df['Attrition_Flag'].value_counts().values} \\n\\n New - {new_df['binary_attrition'].value_counts().values}\"\"\") \n",
    "#verifying the counts are the same"
   ]
  },
  {
   "cell_type": "markdown",
   "id": "0ea1d9d5",
   "metadata": {},
   "source": [
    "Now that we have the new version of our target column, we can drop the original."
   ]
  },
  {
   "cell_type": "code",
   "execution_count": 8,
   "id": "548d6c37",
   "metadata": {},
   "outputs": [
    {
     "data": {
      "text/html": [
       "<div>\n",
       "<style scoped>\n",
       "    .dataframe tbody tr th:only-of-type {\n",
       "        vertical-align: middle;\n",
       "    }\n",
       "\n",
       "    .dataframe tbody tr th {\n",
       "        vertical-align: top;\n",
       "    }\n",
       "\n",
       "    .dataframe thead th {\n",
       "        text-align: right;\n",
       "    }\n",
       "</style>\n",
       "<table border=\"1\" class=\"dataframe\">\n",
       "  <thead>\n",
       "    <tr style=\"text-align: right;\">\n",
       "      <th></th>\n",
       "      <th>Customer_Age</th>\n",
       "      <th>Gender</th>\n",
       "      <th>Dependent_count</th>\n",
       "      <th>Education_Level</th>\n",
       "      <th>Marital_Status</th>\n",
       "      <th>Income_Category</th>\n",
       "      <th>Card_Category</th>\n",
       "      <th>Months_on_book</th>\n",
       "      <th>Total_Relationship_Count</th>\n",
       "      <th>Months_Inactive_12_mon</th>\n",
       "      <th>Contacts_Count_12_mon</th>\n",
       "      <th>Credit_Limit</th>\n",
       "      <th>Total_Revolving_Bal</th>\n",
       "      <th>Avg_Open_To_Buy</th>\n",
       "      <th>Total_Amt_Chng_Q4_Q1</th>\n",
       "      <th>Total_Trans_Amt</th>\n",
       "      <th>Total_Trans_Ct</th>\n",
       "      <th>Total_Ct_Chng_Q4_Q1</th>\n",
       "      <th>Avg_Utilization_Ratio</th>\n",
       "      <th>binary_attrition</th>\n",
       "    </tr>\n",
       "  </thead>\n",
       "  <tbody>\n",
       "    <tr>\n",
       "      <th>0</th>\n",
       "      <td>45</td>\n",
       "      <td>M</td>\n",
       "      <td>3</td>\n",
       "      <td>High School</td>\n",
       "      <td>Married</td>\n",
       "      <td>$60K - $80K</td>\n",
       "      <td>Blue</td>\n",
       "      <td>39</td>\n",
       "      <td>5</td>\n",
       "      <td>1</td>\n",
       "      <td>3</td>\n",
       "      <td>12691.0</td>\n",
       "      <td>777</td>\n",
       "      <td>11914.0</td>\n",
       "      <td>1.335</td>\n",
       "      <td>1144</td>\n",
       "      <td>42</td>\n",
       "      <td>1.625</td>\n",
       "      <td>0.061</td>\n",
       "      <td>0</td>\n",
       "    </tr>\n",
       "    <tr>\n",
       "      <th>1</th>\n",
       "      <td>49</td>\n",
       "      <td>F</td>\n",
       "      <td>5</td>\n",
       "      <td>Graduate</td>\n",
       "      <td>Single</td>\n",
       "      <td>Less than $40K</td>\n",
       "      <td>Blue</td>\n",
       "      <td>44</td>\n",
       "      <td>6</td>\n",
       "      <td>1</td>\n",
       "      <td>2</td>\n",
       "      <td>8256.0</td>\n",
       "      <td>864</td>\n",
       "      <td>7392.0</td>\n",
       "      <td>1.541</td>\n",
       "      <td>1291</td>\n",
       "      <td>33</td>\n",
       "      <td>3.714</td>\n",
       "      <td>0.105</td>\n",
       "      <td>0</td>\n",
       "    </tr>\n",
       "    <tr>\n",
       "      <th>2</th>\n",
       "      <td>51</td>\n",
       "      <td>M</td>\n",
       "      <td>3</td>\n",
       "      <td>Graduate</td>\n",
       "      <td>Married</td>\n",
       "      <td>$80K - $120K</td>\n",
       "      <td>Blue</td>\n",
       "      <td>36</td>\n",
       "      <td>4</td>\n",
       "      <td>1</td>\n",
       "      <td>0</td>\n",
       "      <td>3418.0</td>\n",
       "      <td>0</td>\n",
       "      <td>3418.0</td>\n",
       "      <td>2.594</td>\n",
       "      <td>1887</td>\n",
       "      <td>20</td>\n",
       "      <td>2.333</td>\n",
       "      <td>0.000</td>\n",
       "      <td>0</td>\n",
       "    </tr>\n",
       "    <tr>\n",
       "      <th>3</th>\n",
       "      <td>40</td>\n",
       "      <td>F</td>\n",
       "      <td>4</td>\n",
       "      <td>High School</td>\n",
       "      <td>Unknown</td>\n",
       "      <td>Less than $40K</td>\n",
       "      <td>Blue</td>\n",
       "      <td>34</td>\n",
       "      <td>3</td>\n",
       "      <td>4</td>\n",
       "      <td>1</td>\n",
       "      <td>3313.0</td>\n",
       "      <td>2517</td>\n",
       "      <td>796.0</td>\n",
       "      <td>1.405</td>\n",
       "      <td>1171</td>\n",
       "      <td>20</td>\n",
       "      <td>2.333</td>\n",
       "      <td>0.760</td>\n",
       "      <td>0</td>\n",
       "    </tr>\n",
       "    <tr>\n",
       "      <th>4</th>\n",
       "      <td>40</td>\n",
       "      <td>M</td>\n",
       "      <td>3</td>\n",
       "      <td>Uneducated</td>\n",
       "      <td>Married</td>\n",
       "      <td>$60K - $80K</td>\n",
       "      <td>Blue</td>\n",
       "      <td>21</td>\n",
       "      <td>5</td>\n",
       "      <td>1</td>\n",
       "      <td>0</td>\n",
       "      <td>4716.0</td>\n",
       "      <td>0</td>\n",
       "      <td>4716.0</td>\n",
       "      <td>2.175</td>\n",
       "      <td>816</td>\n",
       "      <td>28</td>\n",
       "      <td>2.500</td>\n",
       "      <td>0.000</td>\n",
       "      <td>0</td>\n",
       "    </tr>\n",
       "  </tbody>\n",
       "</table>\n",
       "</div>"
      ],
      "text/plain": [
       "   Customer_Age Gender  Dependent_count Education_Level Marital_Status  \\\n",
       "0            45      M                3     High School        Married   \n",
       "1            49      F                5        Graduate         Single   \n",
       "2            51      M                3        Graduate        Married   \n",
       "3            40      F                4     High School        Unknown   \n",
       "4            40      M                3      Uneducated        Married   \n",
       "\n",
       "  Income_Category Card_Category  Months_on_book  Total_Relationship_Count  \\\n",
       "0     $60K - $80K          Blue              39                         5   \n",
       "1  Less than $40K          Blue              44                         6   \n",
       "2    $80K - $120K          Blue              36                         4   \n",
       "3  Less than $40K          Blue              34                         3   \n",
       "4     $60K - $80K          Blue              21                         5   \n",
       "\n",
       "   Months_Inactive_12_mon  Contacts_Count_12_mon  Credit_Limit  \\\n",
       "0                       1                      3       12691.0   \n",
       "1                       1                      2        8256.0   \n",
       "2                       1                      0        3418.0   \n",
       "3                       4                      1        3313.0   \n",
       "4                       1                      0        4716.0   \n",
       "\n",
       "   Total_Revolving_Bal  Avg_Open_To_Buy  Total_Amt_Chng_Q4_Q1  \\\n",
       "0                  777          11914.0                 1.335   \n",
       "1                  864           7392.0                 1.541   \n",
       "2                    0           3418.0                 2.594   \n",
       "3                 2517            796.0                 1.405   \n",
       "4                    0           4716.0                 2.175   \n",
       "\n",
       "   Total_Trans_Amt  Total_Trans_Ct  Total_Ct_Chng_Q4_Q1  \\\n",
       "0             1144              42                1.625   \n",
       "1             1291              33                3.714   \n",
       "2             1887              20                2.333   \n",
       "3             1171              20                2.333   \n",
       "4              816              28                2.500   \n",
       "\n",
       "   Avg_Utilization_Ratio  binary_attrition  \n",
       "0                  0.061                 0  \n",
       "1                  0.105                 0  \n",
       "2                  0.000                 0  \n",
       "3                  0.760                 0  \n",
       "4                  0.000                 0  "
      ]
     },
     "execution_count": 8,
     "metadata": {},
     "output_type": "execute_result"
    }
   ],
   "source": [
    "bin_df = new_df.drop(['Attrition_Flag'], axis = 1)\n",
    "bin_df.head()"
   ]
  },
  {
   "cell_type": "markdown",
   "id": "9d37f4f8",
   "metadata": {},
   "source": [
    "From transforming the data, we noticed that the target variable is extremely off-balance. Because of this aspect the nature of how we analyze the result changes. We can either subset the data into approximately equal proportions, or we can use precision, recall, and the F1 score as metrics. The next portion of the pre-work takes a look at some of the predictors in the table."
   ]
  },
  {
   "cell_type": "markdown",
   "id": "07195de6",
   "metadata": {},
   "source": [
    "## Credit Card Predictors and their Details"
   ]
  },
  {
   "cell_type": "markdown",
   "id": "85682a34",
   "metadata": {},
   "source": [
    "#### Customer Age"
   ]
  },
  {
   "cell_type": "code",
   "execution_count": 9,
   "id": "f40916ac",
   "metadata": {},
   "outputs": [
    {
     "data": {
      "image/png": "[encoded data removed]",
      "text/plain": [
       "<Figure size 432x288 with 1 Axes>"
      ]
     },
     "metadata": {
      "needs_background": "light"
     },
     "output_type": "display_data"
    }
   ],
   "source": [
    "plt.hist(bin_df['Customer_Age'])\n",
    "plt.xlabel('Customer Age')\n",
    "plt.ylabel('Count of Age')\n",
    "plt.title('Distribution of Customer Based on Age')\n",
    "plt.show()"
   ]
  },
  {
   "cell_type": "code",
   "execution_count": 10,
   "id": "2a6715e5",
   "metadata": {},
   "outputs": [
    {
     "name": "stdout",
     "output_type": "stream",
     "text": [
      "Breakdown of statistics for age: \n",
      "\n",
      " count    10127.000000\n",
      "mean        46.325960\n",
      "std          8.016814\n",
      "min         26.000000\n",
      "25%         41.000000\n",
      "50%         46.000000\n",
      "75%         52.000000\n",
      "max         73.000000\n",
      "Name: Customer_Age, dtype: float64\n"
     ]
    }
   ],
   "source": [
    "print(f\"Breakdown of statistics for age: \\n\\n {bin_df['Customer_Age'].describe()}\")"
   ]
  },
  {
   "cell_type": "markdown",
   "id": "819fa0d1",
   "metadata": {},
   "source": [
    "<b> Interpretation: </b> Based on the histogram, it is reasonable to assume that the customer age is normally distributed"
   ]
  },
  {
   "cell_type": "code",
   "execution_count": 11,
   "id": "4a3d2f4d",
   "metadata": {},
   "outputs": [
    {
     "data": {
      "image/png": "[encoded data removed]",
      "text/plain": [
       "<Figure size 432x288 with 1 Axes>"
      ]
     },
     "metadata": {
      "needs_background": "light"
     },
     "output_type": "display_data"
    }
   ],
   "source": [
    "fig, ax = plt.subplots()\n",
    "ax.boxplot([bin_df['Customer_Age'][bin_df['binary_attrition'] == 1],bin_df['Customer_Age'][bin_df['binary_attrition'] == 0]])\n",
    "ax.set_title(\"Existing Customer Age: 1 and Attrited Customer Age: 2\")\n",
    "ax.set_ylabel(\"Customer Age\")\n",
    "plt.show()"
   ]
  },
  {
   "cell_type": "markdown",
   "id": "97de3f3f",
   "metadata": {},
   "source": [
    "#### Customer Gender"
   ]
  },
  {
   "cell_type": "code",
   "execution_count": 12,
   "id": "bc66caff",
   "metadata": {},
   "outputs": [
    {
     "data": {
      "image/png": "[encoded data removed]",
      "text/plain": [
       "<Figure size 432x288 with 1 Axes>"
      ]
     },
     "metadata": {
      "needs_background": "light"
     },
     "output_type": "display_data"
    }
   ],
   "source": [
    "fig, ax = plt.subplots()\n",
    "bars = ax.bar(bin_df['Gender'].value_counts().index,bin_df['Gender'].value_counts().values, color = 'beige')\n",
    "ax.bar_label(bars)\n",
    "plt.xlabel('Gender')\n",
    "plt.ylabel('Counts')\n",
    "plt.title('Count of Customers Based on Gender')\n",
    "plt.show()"
   ]
  },
  {
   "cell_type": "markdown",
   "id": "178378bc",
   "metadata": {},
   "source": [
    "<b> Interpretation: </b> The counts between males and females appear balanced."
   ]
  },
  {
   "cell_type": "markdown",
   "id": "5f8a74ca",
   "metadata": {},
   "source": [
    "In order to use customer gender in our model, a few changes must be made. Firstly, the gender column must be split into an integer column using 1s and 0s. We split this columns into 1s and 0s knowing that neither being male or female is superior to the other. The new binary gender column is not ranked. We are reclasifying the column because the machine learning algorithms we are using cannot interpret string data."
   ]
  },
  {
   "cell_type": "code",
   "execution_count": 13,
   "id": "bc629eb7",
   "metadata": {},
   "outputs": [],
   "source": [
    "bin_df['Gender_New'] = [0 if x == \"M\" else 1 for x in bin_df['Gender']]\n",
    "new_bin_df = bin_df.drop(['Gender'], axis = 1)"
   ]
  },
  {
   "cell_type": "code",
   "execution_count": 14,
   "id": "27bafb62",
   "metadata": {},
   "outputs": [
    {
     "data": {
      "text/html": [
       "<div>\n",
       "<style scoped>\n",
       "    .dataframe tbody tr th:only-of-type {\n",
       "        vertical-align: middle;\n",
       "    }\n",
       "\n",
       "    .dataframe tbody tr th {\n",
       "        vertical-align: top;\n",
       "    }\n",
       "\n",
       "    .dataframe thead th {\n",
       "        text-align: right;\n",
       "    }\n",
       "</style>\n",
       "<table border=\"1\" class=\"dataframe\">\n",
       "  <thead>\n",
       "    <tr style=\"text-align: right;\">\n",
       "      <th></th>\n",
       "      <th>Customer_Age</th>\n",
       "      <th>Dependent_count</th>\n",
       "      <th>Education_Level</th>\n",
       "      <th>Marital_Status</th>\n",
       "      <th>Income_Category</th>\n",
       "      <th>Card_Category</th>\n",
       "      <th>Months_on_book</th>\n",
       "      <th>Total_Relationship_Count</th>\n",
       "      <th>Months_Inactive_12_mon</th>\n",
       "      <th>Contacts_Count_12_mon</th>\n",
       "      <th>Credit_Limit</th>\n",
       "      <th>Total_Revolving_Bal</th>\n",
       "      <th>Avg_Open_To_Buy</th>\n",
       "      <th>Total_Amt_Chng_Q4_Q1</th>\n",
       "      <th>Total_Trans_Amt</th>\n",
       "      <th>Total_Trans_Ct</th>\n",
       "      <th>Total_Ct_Chng_Q4_Q1</th>\n",
       "      <th>Avg_Utilization_Ratio</th>\n",
       "      <th>binary_attrition</th>\n",
       "      <th>Gender_New</th>\n",
       "    </tr>\n",
       "  </thead>\n",
       "  <tbody>\n",
       "    <tr>\n",
       "      <th>0</th>\n",
       "      <td>45</td>\n",
       "      <td>3</td>\n",
       "      <td>High School</td>\n",
       "      <td>Married</td>\n",
       "      <td>$60K - $80K</td>\n",
       "      <td>Blue</td>\n",
       "      <td>39</td>\n",
       "      <td>5</td>\n",
       "      <td>1</td>\n",
       "      <td>3</td>\n",
       "      <td>12691.0</td>\n",
       "      <td>777</td>\n",
       "      <td>11914.0</td>\n",
       "      <td>1.335</td>\n",
       "      <td>1144</td>\n",
       "      <td>42</td>\n",
       "      <td>1.625</td>\n",
       "      <td>0.061</td>\n",
       "      <td>0</td>\n",
       "      <td>0</td>\n",
       "    </tr>\n",
       "    <tr>\n",
       "      <th>1</th>\n",
       "      <td>49</td>\n",
       "      <td>5</td>\n",
       "      <td>Graduate</td>\n",
       "      <td>Single</td>\n",
       "      <td>Less than $40K</td>\n",
       "      <td>Blue</td>\n",
       "      <td>44</td>\n",
       "      <td>6</td>\n",
       "      <td>1</td>\n",
       "      <td>2</td>\n",
       "      <td>8256.0</td>\n",
       "      <td>864</td>\n",
       "      <td>7392.0</td>\n",
       "      <td>1.541</td>\n",
       "      <td>1291</td>\n",
       "      <td>33</td>\n",
       "      <td>3.714</td>\n",
       "      <td>0.105</td>\n",
       "      <td>0</td>\n",
       "      <td>1</td>\n",
       "    </tr>\n",
       "    <tr>\n",
       "      <th>2</th>\n",
       "      <td>51</td>\n",
       "      <td>3</td>\n",
       "      <td>Graduate</td>\n",
       "      <td>Married</td>\n",
       "      <td>$80K - $120K</td>\n",
       "      <td>Blue</td>\n",
       "      <td>36</td>\n",
       "      <td>4</td>\n",
       "      <td>1</td>\n",
       "      <td>0</td>\n",
       "      <td>3418.0</td>\n",
       "      <td>0</td>\n",
       "      <td>3418.0</td>\n",
       "      <td>2.594</td>\n",
       "      <td>1887</td>\n",
       "      <td>20</td>\n",
       "      <td>2.333</td>\n",
       "      <td>0.000</td>\n",
       "      <td>0</td>\n",
       "      <td>0</td>\n",
       "    </tr>\n",
       "    <tr>\n",
       "      <th>3</th>\n",
       "      <td>40</td>\n",
       "      <td>4</td>\n",
       "      <td>High School</td>\n",
       "      <td>Unknown</td>\n",
       "      <td>Less than $40K</td>\n",
       "      <td>Blue</td>\n",
       "      <td>34</td>\n",
       "      <td>3</td>\n",
       "      <td>4</td>\n",
       "      <td>1</td>\n",
       "      <td>3313.0</td>\n",
       "      <td>2517</td>\n",
       "      <td>796.0</td>\n",
       "      <td>1.405</td>\n",
       "      <td>1171</td>\n",
       "      <td>20</td>\n",
       "      <td>2.333</td>\n",
       "      <td>0.760</td>\n",
       "      <td>0</td>\n",
       "      <td>1</td>\n",
       "    </tr>\n",
       "    <tr>\n",
       "      <th>4</th>\n",
       "      <td>40</td>\n",
       "      <td>3</td>\n",
       "      <td>Uneducated</td>\n",
       "      <td>Married</td>\n",
       "      <td>$60K - $80K</td>\n",
       "      <td>Blue</td>\n",
       "      <td>21</td>\n",
       "      <td>5</td>\n",
       "      <td>1</td>\n",
       "      <td>0</td>\n",
       "      <td>4716.0</td>\n",
       "      <td>0</td>\n",
       "      <td>4716.0</td>\n",
       "      <td>2.175</td>\n",
       "      <td>816</td>\n",
       "      <td>28</td>\n",
       "      <td>2.500</td>\n",
       "      <td>0.000</td>\n",
       "      <td>0</td>\n",
       "      <td>0</td>\n",
       "    </tr>\n",
       "  </tbody>\n",
       "</table>\n",
       "</div>"
      ],
      "text/plain": [
       "   Customer_Age  Dependent_count Education_Level Marital_Status  \\\n",
       "0            45                3     High School        Married   \n",
       "1            49                5        Graduate         Single   \n",
       "2            51                3        Graduate        Married   \n",
       "3            40                4     High School        Unknown   \n",
       "4            40                3      Uneducated        Married   \n",
       "\n",
       "  Income_Category Card_Category  Months_on_book  Total_Relationship_Count  \\\n",
       "0     $60K - $80K          Blue              39                         5   \n",
       "1  Less than $40K          Blue              44                         6   \n",
       "2    $80K - $120K          Blue              36                         4   \n",
       "3  Less than $40K          Blue              34                         3   \n",
       "4     $60K - $80K          Blue              21                         5   \n",
       "\n",
       "   Months_Inactive_12_mon  Contacts_Count_12_mon  Credit_Limit  \\\n",
       "0                       1                      3       12691.0   \n",
       "1                       1                      2        8256.0   \n",
       "2                       1                      0        3418.0   \n",
       "3                       4                      1        3313.0   \n",
       "4                       1                      0        4716.0   \n",
       "\n",
       "   Total_Revolving_Bal  Avg_Open_To_Buy  Total_Amt_Chng_Q4_Q1  \\\n",
       "0                  777          11914.0                 1.335   \n",
       "1                  864           7392.0                 1.541   \n",
       "2                    0           3418.0                 2.594   \n",
       "3                 2517            796.0                 1.405   \n",
       "4                    0           4716.0                 2.175   \n",
       "\n",
       "   Total_Trans_Amt  Total_Trans_Ct  Total_Ct_Chng_Q4_Q1  \\\n",
       "0             1144              42                1.625   \n",
       "1             1291              33                3.714   \n",
       "2             1887              20                2.333   \n",
       "3             1171              20                2.333   \n",
       "4              816              28                2.500   \n",
       "\n",
       "   Avg_Utilization_Ratio  binary_attrition  Gender_New  \n",
       "0                  0.061                 0           0  \n",
       "1                  0.105                 0           1  \n",
       "2                  0.000                 0           0  \n",
       "3                  0.760                 0           1  \n",
       "4                  0.000                 0           0  "
      ]
     },
     "execution_count": 14,
     "metadata": {},
     "output_type": "execute_result"
    }
   ],
   "source": [
    "new_bin_df.head()"
   ]
  },
  {
   "cell_type": "markdown",
   "id": "93285972",
   "metadata": {},
   "source": [
    "We use the same attrition function to split the binary data into two columns dedicated to whether the customer is femals or male."
   ]
  },
  {
   "cell_type": "markdown",
   "id": "4e9712af",
   "metadata": {},
   "source": [
    "#### Customer Dependent Count"
   ]
  },
  {
   "cell_type": "code",
   "execution_count": 15,
   "id": "3d1a71a3",
   "metadata": {},
   "outputs": [
    {
     "data": {
      "image/png": "[encoded data removed]",
      "text/plain": [
       "<Figure size 432x288 with 1 Axes>"
      ]
     },
     "metadata": {
      "needs_background": "light"
     },
     "output_type": "display_data"
    }
   ],
   "source": [
    "fig, ax = plt.subplots()\n",
    "bars = ax.bar(new_bin_df['Dependent_count'].value_counts().index,new_bin_df['Dependent_count'].value_counts().values, color = 'beige', width=1.0)\n",
    "ax.bar_label(bars)\n",
    "plt.xlabel('Number of Dependents')\n",
    "plt.ylabel('Counts')\n",
    "plt.title('Count of Customers Based on Number of Dependents')\n",
    "plt.show()"
   ]
  },
  {
   "cell_type": "markdown",
   "id": "72d6f7b2",
   "metadata": {},
   "source": [
    "<b> Interpretation: </b> The number of dependents between 2-3 occur the most in the dataset."
   ]
  },
  {
   "cell_type": "markdown",
   "id": "74c3a9b8",
   "metadata": {},
   "source": [
    "#### Customer Education Level"
   ]
  },
  {
   "cell_type": "markdown",
   "id": "de97ab3c",
   "metadata": {},
   "source": [
    "While examing the predictor, a issue arose. This column contained an \"Unknown\" value. This is most likely a placeholder for customerd that did not have that particular information recorded."
   ]
  },
  {
   "cell_type": "code",
   "execution_count": 16,
   "id": "94b0287c",
   "metadata": {},
   "outputs": [
    {
     "data": {
      "image/png": "[encoded data removed]",
      "text/plain": [
       "<Figure size 864x360 with 1 Axes>"
      ]
     },
     "metadata": {
      "needs_background": "light"
     },
     "output_type": "display_data"
    }
   ],
   "source": [
    "fig, ax = plt.subplots(figsize = (12,5))\n",
    "bars = ax.barh(new_bin_df['Education_Level'].value_counts().index,new_bin_df['Education_Level'].value_counts().values, color = 'beige')\n",
    "ax.bar_label(bars)\n",
    "plt.xlabel('Counts')\n",
    "plt.ylabel('Education Level')\n",
    "plt.title('Count of Customers Based on Number of Education')\n",
    "plt.show()"
   ]
  },
  {
   "cell_type": "markdown",
   "id": "ba97f4ad",
   "metadata": {},
   "source": [
    "The unknown value makes up a significant portion of the data. If the observation was small enough, we could consider deleting all rows with that value. Instead we use the mode to impute the \"Unknown\" rows and replace it with the most common education level."
   ]
  },
  {
   "cell_type": "code",
   "execution_count": 17,
   "id": "f9b1f64b",
   "metadata": {},
   "outputs": [
    {
     "name": "stderr",
     "output_type": "stream",
     "text": [
      "C:\\Users\\orteg\\AppData\\Local\\Temp/ipykernel_6564/575657811.py:3: SettingWithCopyWarning: \n",
      "A value is trying to be set on a copy of a slice from a DataFrame\n",
      "\n",
      "See the caveats in the documentation: https://pandas.pydata.org/pandas-docs/stable/user_guide/indexing.html#returning-a-view-versus-a-copy\n",
      "  new_bin_df['Education_Level'][index] = \"Graduate\"\n"
     ]
    },
    {
     "data": {
      "text/plain": [
       "Graduate         4647\n",
       "High School      2013\n",
       "Uneducated       1487\n",
       "College          1013\n",
       "Post-Graduate     516\n",
       "Doctorate         451\n",
       "Name: Education_Level, dtype: int64"
      ]
     },
     "execution_count": 17,
     "metadata": {},
     "output_type": "execute_result"
    }
   ],
   "source": [
    "for index, i in new_bin_df['Education_Level'].items():\n",
    "    if i == \"Unknown\":\n",
    "        new_bin_df['Education_Level'][index] = \"Graduate\"\n",
    "new_bin_df['Education_Level'].value_counts()"
   ]
  },
  {
   "cell_type": "markdown",
   "id": "26f0f7b4",
   "metadata": {},
   "source": [
    "Now that the unknowns observations have been delt with, the next step with the education column can be undertaken. Based on group consensus, the education column will be ranked. The data in the columnn is ordinal and should be appropriately tranformed."
   ]
  },
  {
   "cell_type": "code",
   "execution_count": 18,
   "id": "d028150c",
   "metadata": {},
   "outputs": [],
   "source": [
    "education_rankings = {'College': 2, 'Doctorate': 5, 'Graduate': 3, 'High School': 1, 'Post-Graduate': 4, 'Uneducated': 0}\n",
    "array = []\n",
    "for ind, i in new_bin_df['Education_Level'].items():\n",
    "    for index,val in education_rankings.items():\n",
    "        if index == i:\n",
    "            array.append(val)\n",
    "new_bin_df['ranked_education'] = array"
   ]
  },
  {
   "cell_type": "code",
   "execution_count": 19,
   "id": "b718b659",
   "metadata": {},
   "outputs": [
    {
     "data": {
      "text/plain": [
       "3    4647\n",
       "1    2013\n",
       "0    1487\n",
       "2    1013\n",
       "4     516\n",
       "5     451\n",
       "Name: ranked_education, dtype: int64"
      ]
     },
     "execution_count": 19,
     "metadata": {},
     "output_type": "execute_result"
    }
   ],
   "source": [
    "new_bin_df['ranked_education'].value_counts()"
   ]
  },
  {
   "cell_type": "markdown",
   "id": "01cfa073",
   "metadata": {},
   "source": [
    "#### Customer Marital Status, Income Category, and Card Category"
   ]
  },
  {
   "cell_type": "markdown",
   "id": "c7d9650a",
   "metadata": {},
   "source": [
    "Marital status is divided into three categories: divorced, single and married. Income category is divided into five categories that end with customers making over 120K. Card category has four options: blue, silver, gold, and platinum. Married, less than 40k, and blue are all the top characteristics of the customers."
   ]
  },
  {
   "cell_type": "markdown",
   "id": "b91af791",
   "metadata": {},
   "source": [
    "The same process that education went through will be replicated for these three columns. So, columns with an unknown value will be imputed with the most commomn value, and a new column will be created for rankings. Card category does not contain an unknown observation and does not have to be imputed."
   ]
  },
  {
   "cell_type": "code",
   "execution_count": 20,
   "id": "4040dac8",
   "metadata": {},
   "outputs": [
    {
     "data": {
      "image/png": "[encoded data removed]",
      "text/plain": [
       "<Figure size 2304x720 with 3 Axes>"
      ]
     },
     "metadata": {
      "needs_background": "light"
     },
     "output_type": "display_data"
    }
   ],
   "source": [
    "fig, (ax1,ax2,ax3) = plt.subplots(1,3,figsize = (32,10))\n",
    "bars = ax1.barh(new_bin_df['Marital_Status'].value_counts().index,new_bin_df['Marital_Status'].value_counts().values, color = 'beige')\n",
    "ax1.bar_label(bars)\n",
    "bars = ax2.barh(new_bin_df['Income_Category'].value_counts().index,new_bin_df['Income_Category'].value_counts().values, color = 'beige')\n",
    "ax2.bar_label(bars)\n",
    "bars = ax3.barh(new_bin_df['Card_Category'].value_counts().index,new_bin_df['Card_Category'].value_counts().values, color = 'beige')\n",
    "ax3.bar_label(bars)\n",
    "ax1.set_xlabel(\"Count\")\n",
    "ax2.set_xlabel(\"Count\")\n",
    "ax3.set_xlabel(\"Count\")\n",
    "ax1.set_ylabel(\"Marital Status\")\n",
    "ax2.set_ylabel(\"Income Category\")\n",
    "ax3.set_ylabel(\"Card Category\")\n",
    "ax1.set_title(\"Customers Based on Marital Status\")\n",
    "ax2.set_title(\"Customers Based on Income Category\")\n",
    "ax3.set_title(\"Customers Based on Card Category\")\n",
    "plt.show()"
   ]
  },
  {
   "cell_type": "markdown",
   "id": "109b9b39",
   "metadata": {},
   "source": [
    "<b>Why we give marital status rank?</b>\n",
    "<br> The ranking of marriage was based on an understanding that a person that has been married is more capable to handle responsibility. People who are divorced have had the experience of handling responsibility. Single customers are the lowest because they have yet to be married, which is viewed as a major commitment.</br>"
   ]
  },
  {
   "cell_type": "code",
   "execution_count": 21,
   "id": "169836d9",
   "metadata": {},
   "outputs": [
    {
     "name": "stderr",
     "output_type": "stream",
     "text": [
      "C:\\Users\\orteg\\AppData\\Local\\Temp/ipykernel_6564/308420836.py:3: SettingWithCopyWarning: \n",
      "A value is trying to be set on a copy of a slice from a DataFrame\n",
      "\n",
      "See the caveats in the documentation: https://pandas.pydata.org/pandas-docs/stable/user_guide/indexing.html#returning-a-view-versus-a-copy\n",
      "  new_bin_df['Marital_Status'][index] = \"Married\"\n",
      "C:\\Users\\orteg\\AppData\\Local\\Temp/ipykernel_6564/308420836.py:6: SettingWithCopyWarning: \n",
      "A value is trying to be set on a copy of a slice from a DataFrame\n",
      "\n",
      "See the caveats in the documentation: https://pandas.pydata.org/pandas-docs/stable/user_guide/indexing.html#returning-a-view-versus-a-copy\n",
      "  new_bin_df['Income_Category'][index] = \"Less than $40K\"\n"
     ]
    }
   ],
   "source": [
    "for index, i in new_bin_df['Marital_Status'].items():\n",
    "    if i == \"Unknown\":\n",
    "        new_bin_df['Marital_Status'][index] = \"Married\"\n",
    "for index, i in new_bin_df['Income_Category'].items():\n",
    "    if i == \"Unknown\":\n",
    "        new_bin_df['Income_Category'][index] = \"Less than $40K\""
   ]
  },
  {
   "cell_type": "code",
   "execution_count": 22,
   "id": "c342ebc0",
   "metadata": {},
   "outputs": [],
   "source": [
    "marital_rankings = {'Divorced': 1, 'Married': 2, 'Single': 0}\n",
    "income_rankings = {'$120K +': 4, '$40K - $60K': 1, '$60K - $80K': 2, '$80K - $120K': 3, 'Less than $40K': 0}\n",
    "card_rankings = {'Blue': 0, 'Gold': 2, 'Platinum': 3, 'Silver': 1}\n",
    "array = []\n",
    "for ind, i in new_bin_df['Marital_Status'].items():\n",
    "    for index,val in marital_rankings.items():\n",
    "        if index == i:\n",
    "            array.append(val)\n",
    "new_bin_df['ranked_marital'] = array\n",
    "array = []\n",
    "for ind, i in new_bin_df['Income_Category'].items():\n",
    "    for index,val in income_rankings.items():\n",
    "        if index == i:\n",
    "            array.append(val)\n",
    "new_bin_df['ranked_income'] = array\n",
    "array = []\n",
    "for ind, i in new_bin_df['Card_Category'].items():\n",
    "    for index,val in card_rankings.items():\n",
    "        if index == i:\n",
    "            array.append(val)\n",
    "new_bin_df['ranked_card'] = array"
   ]
  },
  {
   "cell_type": "code",
   "execution_count": 23,
   "id": "521e075c",
   "metadata": {},
   "outputs": [
    {
     "data": {
      "image/png": "[encoded data removed]",
      "text/plain": [
       "<Figure size 2304x720 with 3 Axes>"
      ]
     },
     "metadata": {
      "needs_background": "light"
     },
     "output_type": "display_data"
    }
   ],
   "source": [
    "fig, (ax1,ax2,ax3) = plt.subplots(1,3,figsize = (32,10))\n",
    "bars = ax1.barh(new_bin_df['ranked_marital'].value_counts().index,new_bin_df['ranked_marital'].value_counts().values, color = 'beige')\n",
    "ax1.bar_label(bars)\n",
    "bars = ax2.barh(new_bin_df['ranked_income'].value_counts().index,new_bin_df['ranked_income'].value_counts().values, color = 'beige')\n",
    "ax2.bar_label(bars)\n",
    "bars = ax3.barh(new_bin_df['ranked_card'].value_counts().index,new_bin_df['ranked_card'].value_counts().values, color = 'beige')\n",
    "ax3.bar_label(bars)\n",
    "ax1.set_xlabel(\"Count\")\n",
    "ax2.set_xlabel(\"Count\")\n",
    "ax3.set_xlabel(\"Count\")\n",
    "ax1.set_ylabel(\"Marital Status\")\n",
    "ax2.set_ylabel(\"Income Category\")\n",
    "ax3.set_ylabel(\"Card Category\")\n",
    "ax1.set_title(\"Customers Based on Marital Status\")\n",
    "ax2.set_title(\"Customers Based on Income Category\")\n",
    "ax3.set_title(\"Customers Based on Card Category\")\n",
    "plt.show()"
   ]
  },
  {
   "cell_type": "markdown",
   "id": "f9bffa53",
   "metadata": {},
   "source": [
    "#### Customer Subscription Time with Bank in Months"
   ]
  },
  {
   "cell_type": "markdown",
   "id": "9f461e28",
   "metadata": {},
   "source": [
    "This column represents the period of time the customer has spent with the bank."
   ]
  },
  {
   "cell_type": "code",
   "execution_count": 24,
   "id": "7b8de6fe",
   "metadata": {},
   "outputs": [
    {
     "data": {
      "image/png": "[encoded data removed]",
      "text/plain": [
       "<Figure size 432x288 with 1 Axes>"
      ]
     },
     "metadata": {
      "needs_background": "light"
     },
     "output_type": "display_data"
    }
   ],
   "source": [
    "plt.hist(new_bin_df['Months_on_book'])\n",
    "plt.xlabel(\"Months with Bank\")\n",
    "plt.ylabel(\"Counts\")\n",
    "plt.title(\"Customers Distributed by Time with Bank\")\n",
    "plt.show()"
   ]
  },
  {
   "cell_type": "code",
   "execution_count": 25,
   "id": "c79c236c",
   "metadata": {},
   "outputs": [
    {
     "name": "stdout",
     "output_type": "stream",
     "text": [
      "Breakdown of statistics for time with bank: \n",
      "\n",
      " count    10127.000000\n",
      "mean        35.928409\n",
      "std          7.986416\n",
      "min         13.000000\n",
      "25%         31.000000\n",
      "50%         36.000000\n",
      "75%         40.000000\n",
      "max         56.000000\n",
      "Name: Months_on_book, dtype: float64\n"
     ]
    }
   ],
   "source": [
    "print(f\"Breakdown of statistics for time with bank: \\n\\n {new_bin_df['Months_on_book'].describe()}\")"
   ]
  },
  {
   "cell_type": "code",
   "execution_count": 26,
   "id": "09386c34",
   "metadata": {},
   "outputs": [
    {
     "data": {
      "image/png": "[encoded data removed]",
      "text/plain": [
       "<Figure size 432x288 with 1 Axes>"
      ]
     },
     "metadata": {
      "needs_background": "light"
     },
     "output_type": "display_data"
    }
   ],
   "source": [
    "fig, ax = plt.subplots()\n",
    "ax.boxplot([bin_df['Months_on_book'][bin_df['binary_attrition'] == 1],bin_df['Months_on_book'][bin_df['binary_attrition'] == 0]])\n",
    "ax.set_title(\"Existing Customer Months on Book: 1 and Attrited Customer Months on Book: 2\")\n",
    "ax.set_ylabel('Months on book')\n",
    "plt.show()"
   ]
  },
  {
   "cell_type": "markdown",
   "id": "4ef03f6b",
   "metadata": {},
   "source": [
    "#### Customer Relationship Count"
   ]
  },
  {
   "cell_type": "markdown",
   "id": "4c62eaf7",
   "metadata": {},
   "source": [
    "The customer relationship measure contains observations based on the number of services a single customer uses. An example might be number of cards."
   ]
  },
  {
   "cell_type": "code",
   "execution_count": 27,
   "id": "16c63c7d",
   "metadata": {},
   "outputs": [
    {
     "data": {
      "image/png": "[encoded data removed]",
      "text/plain": [
       "<Figure size 864x360 with 1 Axes>"
      ]
     },
     "metadata": {
      "needs_background": "light"
     },
     "output_type": "display_data"
    }
   ],
   "source": [
    "fig, ax = plt.subplots(figsize = (12,5))\n",
    "bars = ax.bar(new_bin_df['Total_Relationship_Count'].value_counts().index,new_bin_df['Total_Relationship_Count'].value_counts().values, color = 'beige',  width=1.0)\n",
    "ax.bar_label(bars)\n",
    "plt.xlabel('Counts')\n",
    "plt.ylabel('Number of Relationships')\n",
    "plt.title('Count of Customers Based on Number of Services Counducted with the Bank')\n",
    "plt.show()"
   ]
  },
  {
   "cell_type": "markdown",
   "id": "3a6b9473",
   "metadata": {},
   "source": [
    "#### Customer Inactivity in the Past 12 Months"
   ]
  },
  {
   "cell_type": "markdown",
   "id": "9ffff756",
   "metadata": {},
   "source": [
    "This column tracks the inactivity of customers. The measure is in months."
   ]
  },
  {
   "cell_type": "code",
   "execution_count": 28,
   "id": "7d90b6a1",
   "metadata": {},
   "outputs": [
    {
     "data": {
      "image/png": "[encoded data removed]",
      "text/plain": [
       "<Figure size 864x360 with 1 Axes>"
      ]
     },
     "metadata": {
      "needs_background": "light"
     },
     "output_type": "display_data"
    }
   ],
   "source": [
    "fig, ax = plt.subplots(figsize = (12,5))\n",
    "bars = ax.bar(new_bin_df['Months_Inactive_12_mon'].value_counts().index,new_bin_df['Months_Inactive_12_mon'].value_counts().values, color = 'beige', width=1.0)\n",
    "ax.bar_label(bars)\n",
    "plt.xlabel('Counts')\n",
    "plt.ylabel('Number of Months')\n",
    "plt.title('Count of Customers Based on Inactivity within the Past 12 Months')\n",
    "plt.show()"
   ]
  },
  {
   "cell_type": "markdown",
   "id": "e96a025c",
   "metadata": {},
   "source": [
    "Based on what we known of the data, most customers are currently still with the bank. So, it can be expected that most customers will not have a lot of inactivity. We can test this idea of making a side-by-side visualization of bar graphs."
   ]
  },
  {
   "cell_type": "code",
   "execution_count": 29,
   "id": "17bcc2c3",
   "metadata": {},
   "outputs": [
    {
     "data": {
      "image/png": "[encoded data removed]",
      "text/plain": [
       "<Figure size 1440x360 with 2 Axes>"
      ]
     },
     "metadata": {
      "needs_background": "light"
     },
     "output_type": "display_data"
    }
   ],
   "source": [
    "fig, (ax1,ax2) = plt.subplots(1,2,figsize = (20,5))\n",
    "bars = ax1.bar(new_bin_df['Months_Inactive_12_mon'][new_bin_df['binary_attrition'] == 1].value_counts().index,new_bin_df['Months_Inactive_12_mon'][new_bin_df['binary_attrition'] == 1].value_counts().values, color = 'beige', width=1.0)\n",
    "ax1.bar_label(bars)\n",
    "bars = ax2.bar(new_bin_df['Months_Inactive_12_mon'][new_bin_df['binary_attrition'] == 0].value_counts().index,new_bin_df['Months_Inactive_12_mon'][new_bin_df['binary_attrition'] == 0].value_counts().values, color = 'beige', width=1.0)\n",
    "ax2.bar_label(bars)\n",
    "ax1.set_xlabel('Counts')\n",
    "ax1.set_ylabel('Number of Months')\n",
    "ax1.set_title('Count of Existing Customers Based on Inactivity within the Past 12 Months')\n",
    "ax2.set_xlabel('Counts')\n",
    "ax2.set_ylabel('Number of Months')\n",
    "ax2.set_title('Count of Attrited Customers Based on Inactivity within the Past 12 Months')\n",
    "plt.show()"
   ]
  },
  {
   "cell_type": "markdown",
   "id": "0420477d",
   "metadata": {},
   "source": [
    "<b> Interpretation: </b> Suprisingly, customer inactivity does not change based on membership with the company. A reason might be because data collection was only taken at a specific pariod of time. Customers that are no longer with the company have not had enough time to build up inactivity."
   ]
  },
  {
   "cell_type": "markdown",
   "id": "eeb7ef9b",
   "metadata": {},
   "source": [
    "#### Customer Contacts within the Last 12 Months"
   ]
  },
  {
   "cell_type": "markdown",
   "id": "d2808099",
   "metadata": {},
   "source": [
    "This column, and a few others that will be highlighted later, does not efficiently describe its data in the Kaggle repository."
   ]
  },
  {
   "cell_type": "code",
   "execution_count": 30,
   "id": "11fb8c1e",
   "metadata": {},
   "outputs": [
    {
     "data": {
      "image/png": "[encoded data removed]",
      "text/plain": [
       "<Figure size 432x288 with 1 Axes>"
      ]
     },
     "metadata": {
      "needs_background": "light"
     },
     "output_type": "display_data"
    }
   ],
   "source": [
    "fig, ax = plt.subplots()\n",
    "bars = ax.bar(new_bin_df['Contacts_Count_12_mon'].value_counts().index,new_bin_df['Contacts_Count_12_mon'].value_counts().values, color = 'beige', width=1.0)\n",
    "ax.bar_label(bars)\n",
    "plt.xlabel('Amount of Contacts')\n",
    "plt.ylabel('Counts')\n",
    "plt.title('Count of Customers Based on Number of Contacts in the Past 12 Months')\n",
    "plt.show()"
   ]
  },
  {
   "cell_type": "markdown",
   "id": "66f8afb6",
   "metadata": {},
   "source": [
    "Deciding whether this column will remain in the table will be decided later in the analysis."
   ]
  },
  {
   "cell_type": "markdown",
   "id": "8f66cadd",
   "metadata": {},
   "source": [
    "#### Customer Credit Limit"
   ]
  },
  {
   "cell_type": "markdown",
   "id": "1b1b8076",
   "metadata": {},
   "source": [
    "The credit limit of the customer is the amount of money the user has to spend per month."
   ]
  },
  {
   "cell_type": "code",
   "execution_count": 31,
   "id": "849a4476",
   "metadata": {},
   "outputs": [
    {
     "data": {
      "image/png": "[encoded data removed]",
      "text/plain": [
       "<Figure size 432x288 with 1 Axes>"
      ]
     },
     "metadata": {
      "needs_background": "light"
     },
     "output_type": "display_data"
    }
   ],
   "source": [
    "plt.hist(new_bin_df['Credit_Limit'])\n",
    "plt.xlabel(\"Funds Allotted to the Customer\")\n",
    "plt.ylabel(\"Counts\")\n",
    "plt.title(\"Customer Credit Lines\")\n",
    "plt.show()"
   ]
  },
  {
   "cell_type": "code",
   "execution_count": 32,
   "id": "5c7e4687",
   "metadata": {},
   "outputs": [
    {
     "name": "stdout",
     "output_type": "stream",
     "text": [
      "Breakdown of statistics for credit limit: \n",
      "\n",
      " count    10127.000000\n",
      "mean      8631.953698\n",
      "std       9088.776650\n",
      "min       1438.300000\n",
      "25%       2555.000000\n",
      "50%       4549.000000\n",
      "75%      11067.500000\n",
      "max      34516.000000\n",
      "Name: Credit_Limit, dtype: float64\n"
     ]
    }
   ],
   "source": [
    "print(f\"Breakdown of statistics for credit limit: \\n\\n {new_bin_df['Credit_Limit'].describe()}\")"
   ]
  },
  {
   "cell_type": "markdown",
   "id": "7e674063",
   "metadata": {},
   "source": [
    "The distribution of the data is not surprising. Many customers do not have the qualifications to receive a high number of credit. This explains the large counts of customers near the lowest credit limits. A case can be made to rank the data similar to the income column."
   ]
  },
  {
   "cell_type": "markdown",
   "id": "3e149a00",
   "metadata": {},
   "source": [
    "#### Customer Revolving Balance"
   ]
  },
  {
   "cell_type": "markdown",
   "id": "615b95e8",
   "metadata": {},
   "source": [
    "This column concerns the amount of money customers maintain in their accounts. If the cusomer has a balance over zero, they will be paying additional interest on that amount in their next payment."
   ]
  },
  {
   "cell_type": "code",
   "execution_count": 33,
   "id": "b6bc81b0",
   "metadata": {},
   "outputs": [
    {
     "data": {
      "image/png": "[encoded data removed]",
      "text/plain": [
       "<Figure size 432x288 with 1 Axes>"
      ]
     },
     "metadata": {
      "needs_background": "light"
     },
     "output_type": "display_data"
    }
   ],
   "source": [
    "plt.hist(new_bin_df['Total_Revolving_Bal'])\n",
    "plt.xlabel(\"Customer Card Balance\")\n",
    "plt.ylabel(\"Counts\")\n",
    "plt.title(\"Customer Revolving Balance\")\n",
    "plt.show()"
   ]
  },
  {
   "cell_type": "code",
   "execution_count": 34,
   "id": "d054511b",
   "metadata": {},
   "outputs": [
    {
     "name": "stdout",
     "output_type": "stream",
     "text": [
      "Breakdown of statistics for revolving balance: \n",
      "\n",
      " count    10127.000000\n",
      "mean      1162.814061\n",
      "std        814.987335\n",
      "min          0.000000\n",
      "25%        359.000000\n",
      "50%       1276.000000\n",
      "75%       1784.000000\n",
      "max       2517.000000\n",
      "Name: Total_Revolving_Bal, dtype: float64\n"
     ]
    }
   ],
   "source": [
    "print(f\"Breakdown of statistics for revolving balance: \\n\\n {new_bin_df['Total_Revolving_Bal'].describe()}\")"
   ]
  },
  {
   "cell_type": "markdown",
   "id": "0a7beea2",
   "metadata": {},
   "source": [
    "<b> Interpretation: </b> Unfortunately, it appears that most customers are not paying off their credit card balances. Those customers will be paying interest on their accounts. A question now might be what the difference is between existing and non-existing customers."
   ]
  },
  {
   "cell_type": "code",
   "execution_count": 35,
   "id": "e4e50209",
   "metadata": {},
   "outputs": [
    {
     "data": {
      "image/png": "[encoded data removed]",
      "text/plain": [
       "<Figure size 1440x360 with 2 Axes>"
      ]
     },
     "metadata": {
      "needs_background": "light"
     },
     "output_type": "display_data"
    }
   ],
   "source": [
    "fig, (ax1,ax2) = plt.subplots(1,2,figsize = (20,5))\n",
    "ax1.hist(new_bin_df['Total_Revolving_Bal'][new_bin_df['binary_attrition'] == 1])\n",
    "ax2.hist(new_bin_df['Total_Revolving_Bal'][new_bin_df['binary_attrition'] == 0])\n",
    "ax1.set_ylabel('Counts')\n",
    "ax1.set_xlabel('Balance')\n",
    "ax1.set_title('Count of Revolving Balance for Existing Customers')\n",
    "ax2.set_ylabel('Counts')\n",
    "ax2.set_xlabel('Balance')\n",
    "ax2.set_title('Count of Revolving Balance for Attrited Customers')\n",
    "plt.show()"
   ]
  },
  {
   "cell_type": "markdown",
   "id": "d71bf1f6",
   "metadata": {},
   "source": [
    "It appears that most customers no longer with the bank have paid off their balance. However, many customers appear to still have balance. Depending on the current policies, banks may never get paid by the customer. Active customers have a wider range in balance."
   ]
  },
  {
   "cell_type": "markdown",
   "id": "fc3affb3",
   "metadata": {},
   "source": [
    "#### Customer Average open to buy"
   ]
  },
  {
   "cell_type": "markdown",
   "id": "9bc083fc",
   "metadata": {},
   "source": [
    "According to Google: \"Open to Buy means maximum amount that Cardholder is permitted to spend using Credit Card from time to time which equals the Limit minus the Outstanding Balance.\""
   ]
  },
  {
   "cell_type": "code",
   "execution_count": 36,
   "id": "6d740100",
   "metadata": {},
   "outputs": [
    {
     "data": {
      "image/png": "[encoded data removed]",
      "text/plain": [
       "<Figure size 432x288 with 1 Axes>"
      ]
     },
     "metadata": {
      "needs_background": "light"
     },
     "output_type": "display_data"
    }
   ],
   "source": [
    "plt.hist(new_bin_df['Avg_Open_To_Buy'])\n",
    "plt.xlabel(\"AVG Open to Buy\")\n",
    "plt.ylabel(\"Counts\")\n",
    "plt.title(\"Customer Average Open to Buy from last 12 months\")\n",
    "plt.show()"
   ]
  },
  {
   "cell_type": "code",
   "execution_count": 37,
   "id": "68920f81",
   "metadata": {},
   "outputs": [
    {
     "name": "stdout",
     "output_type": "stream",
     "text": [
      "Breakdown of statistics for open to buy: \n",
      "\n",
      " count    10127.000000\n",
      "mean      7469.139637\n",
      "std       9090.685324\n",
      "min          3.000000\n",
      "25%       1324.500000\n",
      "50%       3474.000000\n",
      "75%       9859.000000\n",
      "max      34516.000000\n",
      "Name: Avg_Open_To_Buy, dtype: float64\n"
     ]
    }
   ],
   "source": [
    "print(f\"Breakdown of statistics for open to buy: \\n\\n {new_bin_df['Avg_Open_To_Buy'].describe()}\")"
   ]
  },
  {
   "cell_type": "markdown",
   "id": "fa4ee7ba",
   "metadata": {},
   "source": [
    "<b> Interpretation: </b> It appears that many customers are spending their entire credit limit on average. There is one customer that is not spending any money on their account. This is found by comparing the max credit limit with this metric."
   ]
  },
  {
   "cell_type": "markdown",
   "id": "03c06282",
   "metadata": {},
   "source": [
    "#### Customer Total Amount of Change (Quarter 4 Over Quarter 1)"
   ]
  },
  {
   "cell_type": "markdown",
   "id": "17dfb7d1",
   "metadata": {},
   "source": [
    "This is another column with limited citations."
   ]
  },
  {
   "cell_type": "code",
   "execution_count": 38,
   "id": "63332522",
   "metadata": {},
   "outputs": [
    {
     "data": {
      "image/png": "[encoded data removed]",
      "text/plain": [
       "<Figure size 432x288 with 1 Axes>"
      ]
     },
     "metadata": {
      "needs_background": "light"
     },
     "output_type": "display_data"
    }
   ],
   "source": [
    "plt.hist(new_bin_df['Total_Amt_Chng_Q4_Q1'])\n",
    "plt.xlabel(\"Amount of Change\")\n",
    "plt.ylabel(\"Counts\")\n",
    "plt.title(\"Customer Total Amount of Change (Quarter 4 Over Quarter 1)\")\n",
    "plt.show()"
   ]
  },
  {
   "cell_type": "code",
   "execution_count": 39,
   "id": "210be243",
   "metadata": {},
   "outputs": [
    {
     "name": "stdout",
     "output_type": "stream",
     "text": [
      "Breakdown of statistics for amount change: \n",
      "\n",
      " count    10127.000000\n",
      "mean         0.759941\n",
      "std          0.219207\n",
      "min          0.000000\n",
      "25%          0.631000\n",
      "50%          0.736000\n",
      "75%          0.859000\n",
      "max          3.397000\n",
      "Name: Total_Amt_Chng_Q4_Q1, dtype: float64\n"
     ]
    }
   ],
   "source": [
    "print(f\"Breakdown of statistics for amount change: \\n\\n {new_bin_df['Total_Amt_Chng_Q4_Q1'].describe()}\")"
   ]
  },
  {
   "cell_type": "markdown",
   "id": "9e244417",
   "metadata": {},
   "source": [
    "#### Customer Transaction Amount with Card"
   ]
  },
  {
   "cell_type": "markdown",
   "id": "21de2b94",
   "metadata": {},
   "source": [
    "This column notes the monetary value of transactions made by the customer over the last 12 months."
   ]
  },
  {
   "cell_type": "code",
   "execution_count": 40,
   "id": "3cdbf068",
   "metadata": {},
   "outputs": [
    {
     "data": {
      "image/png": "[encoded data removed]",
      "text/plain": [
       "<Figure size 432x288 with 1 Axes>"
      ]
     },
     "metadata": {
      "needs_background": "light"
     },
     "output_type": "display_data"
    }
   ],
   "source": [
    "plt.hist(new_bin_df['Total_Trans_Amt'])\n",
    "plt.xlabel(\"Amount of Money Spent in Transactions\")\n",
    "plt.ylabel(\"Counts\")\n",
    "plt.title(\"Customer Total Amount of Money Spent in Transactions Over 12 Months\")\n",
    "plt.show()"
   ]
  },
  {
   "cell_type": "code",
   "execution_count": 41,
   "id": "7a9ed7ae",
   "metadata": {},
   "outputs": [
    {
     "name": "stdout",
     "output_type": "stream",
     "text": [
      "Breakdown of statistics for transaction Amounts: \n",
      "\n",
      " count    10127.000000\n",
      "mean      4404.086304\n",
      "std       3397.129254\n",
      "min        510.000000\n",
      "25%       2155.500000\n",
      "50%       3899.000000\n",
      "75%       4741.000000\n",
      "max      18484.000000\n",
      "Name: Total_Trans_Amt, dtype: float64\n"
     ]
    }
   ],
   "source": [
    "print(f\"Breakdown of statistics for transaction Amounts: \\n\\n {new_bin_df['Total_Trans_Amt'].describe()}\")"
   ]
  },
  {
   "cell_type": "markdown",
   "id": "353596d9",
   "metadata": {},
   "source": [
    "<b> Interpretation: </b> Customers appear to be making small transactions with their card that accumulate over a year. The largest amount is only 18 thousand. That amount is only about half of the largest credit limit!"
   ]
  },
  {
   "cell_type": "markdown",
   "id": "c3a3c717",
   "metadata": {},
   "source": [
    "#### Customer Total Count of Transactions"
   ]
  },
  {
   "cell_type": "markdown",
   "id": "c56ceed3",
   "metadata": {},
   "source": [
    "This column tracks the number of transactions made over the last 12 months."
   ]
  },
  {
   "cell_type": "code",
   "execution_count": 42,
   "id": "fe3f7688",
   "metadata": {},
   "outputs": [
    {
     "data": {
      "image/png": "[encoded data removed]",
      "text/plain": [
       "<Figure size 432x288 with 1 Axes>"
      ]
     },
     "metadata": {
      "needs_background": "light"
     },
     "output_type": "display_data"
    }
   ],
   "source": [
    "plt.hist(new_bin_df['Total_Trans_Ct'])\n",
    "plt.xlabel(\"Number of Transactions\")\n",
    "plt.ylabel(\"Counts\")\n",
    "plt.title(\"Customer Total Counts Over 12 Months\")\n",
    "plt.show()"
   ]
  },
  {
   "cell_type": "code",
   "execution_count": 43,
   "id": "da38e247",
   "metadata": {},
   "outputs": [
    {
     "name": "stdout",
     "output_type": "stream",
     "text": [
      "Breakdown of statistics for transaction counts: \n",
      "\n",
      " count    10127.000000\n",
      "mean        64.858695\n",
      "std         23.472570\n",
      "min         10.000000\n",
      "25%         45.000000\n",
      "50%         67.000000\n",
      "75%         81.000000\n",
      "max        139.000000\n",
      "Name: Total_Trans_Ct, dtype: float64\n"
     ]
    }
   ],
   "source": [
    "print(f\"Breakdown of statistics for transaction counts: \\n\\n {new_bin_df['Total_Trans_Ct'].describe()}\")"
   ]
  },
  {
   "cell_type": "markdown",
   "id": "4ada44b8",
   "metadata": {},
   "source": [
    "Even though many customers have low credit limits, they are still conducting many transactions. Credit cards can be used to make quick purchases when cash is not on hand."
   ]
  },
  {
   "cell_type": "code",
   "execution_count": 44,
   "id": "a156a273",
   "metadata": {},
   "outputs": [
    {
     "data": {
      "image/png": "[encoded data removed]",
      "text/plain": [
       "<Figure size 1440x360 with 2 Axes>"
      ]
     },
     "metadata": {
      "needs_background": "light"
     },
     "output_type": "display_data"
    }
   ],
   "source": [
    "fig, (ax1,ax2) = plt.subplots(1,2,figsize = (20,5))\n",
    "ax1.hist(new_bin_df['Total_Trans_Ct'][new_bin_df['binary_attrition'] == 1])\n",
    "ax2.hist(new_bin_df['Total_Trans_Ct'][new_bin_df['binary_attrition'] == 0])\n",
    "ax1.set_ylabel('Counts')\n",
    "ax1.set_xlabel('Transactions')\n",
    "ax1.set_title('Count of Transactions for Existing Customers')\n",
    "ax2.set_ylabel('Counts')\n",
    "ax2.set_xlabel('Transactions')\n",
    "ax2.set_title('Count of Transactions for Attrited Customers')\n",
    "plt.show()"
   ]
  },
  {
   "cell_type": "markdown",
   "id": "d7e451c3",
   "metadata": {},
   "source": [
    "<b> Interpretation: </b> The attrited customers have less overall transactions; however, if they stopped using the card, they won't be posting their regular transactions for the months they left."
   ]
  },
  {
   "cell_type": "markdown",
   "id": "7323693b",
   "metadata": {},
   "source": [
    "#### Customer Change in Transaction Count (Q4 Over Q1)"
   ]
  },
  {
   "cell_type": "markdown",
   "id": "849a7d4f",
   "metadata": {},
   "source": [
    "This column compares the amount of transactions made by customers in the fourth quarter based on the first quarter."
   ]
  },
  {
   "cell_type": "code",
   "execution_count": 45,
   "id": "cede4942",
   "metadata": {},
   "outputs": [
    {
     "data": {
      "image/png": "[encoded data removed]",
      "text/plain": [
       "<Figure size 432x288 with 1 Axes>"
      ]
     },
     "metadata": {
      "needs_background": "light"
     },
     "output_type": "display_data"
    }
   ],
   "source": [
    "plt.hist(new_bin_df['Total_Ct_Chng_Q4_Q1'])\n",
    "plt.xlabel(\"Proportion of Transactions\")\n",
    "plt.ylabel(\"Counts\")\n",
    "plt.title(\"Customer Change in Transactions (Q4 Over Q1)\")\n",
    "plt.show()"
   ]
  },
  {
   "cell_type": "code",
   "execution_count": 46,
   "id": "598d6d1f",
   "metadata": {},
   "outputs": [
    {
     "name": "stdout",
     "output_type": "stream",
     "text": [
      "Breakdown of statistics for transaction change: \n",
      "\n",
      " count    10127.000000\n",
      "mean         0.712222\n",
      "std          0.238086\n",
      "min          0.000000\n",
      "25%          0.582000\n",
      "50%          0.702000\n",
      "75%          0.818000\n",
      "max          3.714000\n",
      "Name: Total_Ct_Chng_Q4_Q1, dtype: float64\n"
     ]
    }
   ],
   "source": [
    "print(f\"Breakdown of statistics for transaction change: \\n\\n {new_bin_df['Total_Ct_Chng_Q4_Q1'].describe()}\")"
   ]
  },
  {
   "cell_type": "markdown",
   "id": "7bf9cf07",
   "metadata": {},
   "source": [
    "<b> Interpretation: </b> Customers appear to be using the card less towards the end of the year than in the beginning."
   ]
  },
  {
   "cell_type": "markdown",
   "id": "e1d2191e",
   "metadata": {},
   "source": [
    "#### Customer Card Utilization "
   ]
  },
  {
   "cell_type": "markdown",
   "id": "58a74e19",
   "metadata": {},
   "source": [
    "This column is a pre-designed metric that determines the average utilization of the card per customer."
   ]
  },
  {
   "cell_type": "code",
   "execution_count": 47,
   "id": "1f6977c1",
   "metadata": {},
   "outputs": [
    {
     "data": {
      "image/png": "[encoded data removed]",
      "text/plain": [
       "<Figure size 432x288 with 1 Axes>"
      ]
     },
     "metadata": {
      "needs_background": "light"
     },
     "output_type": "display_data"
    }
   ],
   "source": [
    "plt.hist(new_bin_df['Avg_Utilization_Ratio'])\n",
    "plt.xlabel(\"Card Usage\")\n",
    "plt.ylabel(\"Counts\")\n",
    "plt.title(\"Average Usage of Card per Customer\")\n",
    "plt.show()"
   ]
  },
  {
   "cell_type": "code",
   "execution_count": 48,
   "id": "52513246",
   "metadata": {},
   "outputs": [
    {
     "name": "stdout",
     "output_type": "stream",
     "text": [
      "Breakdown of statistics for card usage: \n",
      "\n",
      " count    10127.000000\n",
      "mean         0.274894\n",
      "std          0.275691\n",
      "min          0.000000\n",
      "25%          0.023000\n",
      "50%          0.176000\n",
      "75%          0.503000\n",
      "max          0.999000\n",
      "Name: Avg_Utilization_Ratio, dtype: float64\n"
     ]
    }
   ],
   "source": [
    "print(f\"Breakdown of statistics for card usage: \\n\\n {new_bin_df['Avg_Utilization_Ratio'].describe()}\")"
   ]
  },
  {
   "cell_type": "markdown",
   "id": "17f3c906",
   "metadata": {},
   "source": [
    "<b> Interpretation: </b> A large portion of card holders a rated as not using their card frequently."
   ]
  },
  {
   "cell_type": "code",
   "execution_count": 49,
   "id": "e39a5b91",
   "metadata": {},
   "outputs": [
    {
     "data": {
      "image/png": "[encoded data removed]",
      "text/plain": [
       "<Figure size 1440x360 with 2 Axes>"
      ]
     },
     "metadata": {
      "needs_background": "light"
     },
     "output_type": "display_data"
    }
   ],
   "source": [
    "fig, (ax1,ax2) = plt.subplots(1,2,figsize = (20,5))\n",
    "ax1.hist(new_bin_df['Avg_Utilization_Ratio'][new_bin_df['binary_attrition'] == 1])\n",
    "ax2.hist(new_bin_df['Avg_Utilization_Ratio'][new_bin_df['binary_attrition'] == 0])\n",
    "ax1.set_ylabel('Counts')\n",
    "ax1.set_xlabel('Utilization')\n",
    "ax1.set_title('Count of Utilization for Existing Customers')\n",
    "ax2.set_ylabel('Counts')\n",
    "ax2.set_xlabel('Utilization')\n",
    "ax2.set_title('Count of Utilization for Attrited Customers')\n",
    "plt.show()"
   ]
  },
  {
   "cell_type": "markdown",
   "id": "b028e6dd",
   "metadata": {},
   "source": [
    "Both distributions look similar to one another."
   ]
  },
  {
   "cell_type": "markdown",
   "id": "3656c927",
   "metadata": {},
   "source": [
    "## Cleaning Up the Data Frame"
   ]
  },
  {
   "cell_type": "markdown",
   "id": "26bbd3f5",
   "metadata": {},
   "source": [
    "This will be a small portion that double checks the data frame and removes any columns that are no longer needed. Section will also display column information."
   ]
  },
  {
   "cell_type": "code",
   "execution_count": 50,
   "id": "96ca4219",
   "metadata": {},
   "outputs": [
    {
     "data": {
      "text/html": [
       "<div>\n",
       "<style scoped>\n",
       "    .dataframe tbody tr th:only-of-type {\n",
       "        vertical-align: middle;\n",
       "    }\n",
       "\n",
       "    .dataframe tbody tr th {\n",
       "        vertical-align: top;\n",
       "    }\n",
       "\n",
       "    .dataframe thead th {\n",
       "        text-align: right;\n",
       "    }\n",
       "</style>\n",
       "<table border=\"1\" class=\"dataframe\">\n",
       "  <thead>\n",
       "    <tr style=\"text-align: right;\">\n",
       "      <th></th>\n",
       "      <th>Customer_Age</th>\n",
       "      <th>Dependent_count</th>\n",
       "      <th>Education_Level</th>\n",
       "      <th>Marital_Status</th>\n",
       "      <th>Income_Category</th>\n",
       "      <th>Card_Category</th>\n",
       "      <th>Months_on_book</th>\n",
       "      <th>Total_Relationship_Count</th>\n",
       "      <th>Months_Inactive_12_mon</th>\n",
       "      <th>Contacts_Count_12_mon</th>\n",
       "      <th>...</th>\n",
       "      <th>Total_Trans_Amt</th>\n",
       "      <th>Total_Trans_Ct</th>\n",
       "      <th>Total_Ct_Chng_Q4_Q1</th>\n",
       "      <th>Avg_Utilization_Ratio</th>\n",
       "      <th>binary_attrition</th>\n",
       "      <th>Gender_New</th>\n",
       "      <th>ranked_education</th>\n",
       "      <th>ranked_marital</th>\n",
       "      <th>ranked_income</th>\n",
       "      <th>ranked_card</th>\n",
       "    </tr>\n",
       "  </thead>\n",
       "  <tbody>\n",
       "    <tr>\n",
       "      <th>0</th>\n",
       "      <td>45</td>\n",
       "      <td>3</td>\n",
       "      <td>High School</td>\n",
       "      <td>Married</td>\n",
       "      <td>$60K - $80K</td>\n",
       "      <td>Blue</td>\n",
       "      <td>39</td>\n",
       "      <td>5</td>\n",
       "      <td>1</td>\n",
       "      <td>3</td>\n",
       "      <td>...</td>\n",
       "      <td>1144</td>\n",
       "      <td>42</td>\n",
       "      <td>1.625</td>\n",
       "      <td>0.061</td>\n",
       "      <td>0</td>\n",
       "      <td>0</td>\n",
       "      <td>1</td>\n",
       "      <td>2</td>\n",
       "      <td>2</td>\n",
       "      <td>0</td>\n",
       "    </tr>\n",
       "    <tr>\n",
       "      <th>1</th>\n",
       "      <td>49</td>\n",
       "      <td>5</td>\n",
       "      <td>Graduate</td>\n",
       "      <td>Single</td>\n",
       "      <td>Less than $40K</td>\n",
       "      <td>Blue</td>\n",
       "      <td>44</td>\n",
       "      <td>6</td>\n",
       "      <td>1</td>\n",
       "      <td>2</td>\n",
       "      <td>...</td>\n",
       "      <td>1291</td>\n",
       "      <td>33</td>\n",
       "      <td>3.714</td>\n",
       "      <td>0.105</td>\n",
       "      <td>0</td>\n",
       "      <td>1</td>\n",
       "      <td>3</td>\n",
       "      <td>0</td>\n",
       "      <td>0</td>\n",
       "      <td>0</td>\n",
       "    </tr>\n",
       "    <tr>\n",
       "      <th>2</th>\n",
       "      <td>51</td>\n",
       "      <td>3</td>\n",
       "      <td>Graduate</td>\n",
       "      <td>Married</td>\n",
       "      <td>$80K - $120K</td>\n",
       "      <td>Blue</td>\n",
       "      <td>36</td>\n",
       "      <td>4</td>\n",
       "      <td>1</td>\n",
       "      <td>0</td>\n",
       "      <td>...</td>\n",
       "      <td>1887</td>\n",
       "      <td>20</td>\n",
       "      <td>2.333</td>\n",
       "      <td>0.000</td>\n",
       "      <td>0</td>\n",
       "      <td>0</td>\n",
       "      <td>3</td>\n",
       "      <td>2</td>\n",
       "      <td>3</td>\n",
       "      <td>0</td>\n",
       "    </tr>\n",
       "    <tr>\n",
       "      <th>3</th>\n",
       "      <td>40</td>\n",
       "      <td>4</td>\n",
       "      <td>High School</td>\n",
       "      <td>Married</td>\n",
       "      <td>Less than $40K</td>\n",
       "      <td>Blue</td>\n",
       "      <td>34</td>\n",
       "      <td>3</td>\n",
       "      <td>4</td>\n",
       "      <td>1</td>\n",
       "      <td>...</td>\n",
       "      <td>1171</td>\n",
       "      <td>20</td>\n",
       "      <td>2.333</td>\n",
       "      <td>0.760</td>\n",
       "      <td>0</td>\n",
       "      <td>1</td>\n",
       "      <td>1</td>\n",
       "      <td>2</td>\n",
       "      <td>0</td>\n",
       "      <td>0</td>\n",
       "    </tr>\n",
       "    <tr>\n",
       "      <th>4</th>\n",
       "      <td>40</td>\n",
       "      <td>3</td>\n",
       "      <td>Uneducated</td>\n",
       "      <td>Married</td>\n",
       "      <td>$60K - $80K</td>\n",
       "      <td>Blue</td>\n",
       "      <td>21</td>\n",
       "      <td>5</td>\n",
       "      <td>1</td>\n",
       "      <td>0</td>\n",
       "      <td>...</td>\n",
       "      <td>816</td>\n",
       "      <td>28</td>\n",
       "      <td>2.500</td>\n",
       "      <td>0.000</td>\n",
       "      <td>0</td>\n",
       "      <td>0</td>\n",
       "      <td>0</td>\n",
       "      <td>2</td>\n",
       "      <td>2</td>\n",
       "      <td>0</td>\n",
       "    </tr>\n",
       "  </tbody>\n",
       "</table>\n",
       "<p>5 rows × 24 columns</p>\n",
       "</div>"
      ],
      "text/plain": [
       "   Customer_Age  Dependent_count Education_Level Marital_Status  \\\n",
       "0            45                3     High School        Married   \n",
       "1            49                5        Graduate         Single   \n",
       "2            51                3        Graduate        Married   \n",
       "3            40                4     High School        Married   \n",
       "4            40                3      Uneducated        Married   \n",
       "\n",
       "  Income_Category Card_Category  Months_on_book  Total_Relationship_Count  \\\n",
       "0     $60K - $80K          Blue              39                         5   \n",
       "1  Less than $40K          Blue              44                         6   \n",
       "2    $80K - $120K          Blue              36                         4   \n",
       "3  Less than $40K          Blue              34                         3   \n",
       "4     $60K - $80K          Blue              21                         5   \n",
       "\n",
       "   Months_Inactive_12_mon  Contacts_Count_12_mon  ...  Total_Trans_Amt  \\\n",
       "0                       1                      3  ...             1144   \n",
       "1                       1                      2  ...             1291   \n",
       "2                       1                      0  ...             1887   \n",
       "3                       4                      1  ...             1171   \n",
       "4                       1                      0  ...              816   \n",
       "\n",
       "   Total_Trans_Ct  Total_Ct_Chng_Q4_Q1  Avg_Utilization_Ratio  \\\n",
       "0              42                1.625                  0.061   \n",
       "1              33                3.714                  0.105   \n",
       "2              20                2.333                  0.000   \n",
       "3              20                2.333                  0.760   \n",
       "4              28                2.500                  0.000   \n",
       "\n",
       "   binary_attrition  Gender_New  ranked_education  ranked_marital  \\\n",
       "0                 0           0                 1               2   \n",
       "1                 0           1                 3               0   \n",
       "2                 0           0                 3               2   \n",
       "3                 0           1                 1               2   \n",
       "4                 0           0                 0               2   \n",
       "\n",
       "   ranked_income  ranked_card  \n",
       "0              2            0  \n",
       "1              0            0  \n",
       "2              3            0  \n",
       "3              0            0  \n",
       "4              2            0  \n",
       "\n",
       "[5 rows x 24 columns]"
      ]
     },
     "execution_count": 50,
     "metadata": {},
     "output_type": "execute_result"
    }
   ],
   "source": [
    "new_bin_df.head()"
   ]
  },
  {
   "cell_type": "code",
   "execution_count": 51,
   "id": "d06841a4",
   "metadata": {},
   "outputs": [
    {
     "data": {
      "text/plain": [
       "Index(['Customer_Age', 'Dependent_count', 'Education_Level', 'Marital_Status',\n",
       "       'Income_Category', 'Card_Category', 'Months_on_book',\n",
       "       'Total_Relationship_Count', 'Months_Inactive_12_mon',\n",
       "       'Contacts_Count_12_mon', 'Credit_Limit', 'Total_Revolving_Bal',\n",
       "       'Avg_Open_To_Buy', 'Total_Amt_Chng_Q4_Q1', 'Total_Trans_Amt',\n",
       "       'Total_Trans_Ct', 'Total_Ct_Chng_Q4_Q1', 'Avg_Utilization_Ratio',\n",
       "       'binary_attrition', 'Gender_New', 'ranked_education', 'ranked_marital',\n",
       "       'ranked_income', 'ranked_card'],\n",
       "      dtype='object')"
      ]
     },
     "execution_count": 51,
     "metadata": {},
     "output_type": "execute_result"
    }
   ],
   "source": [
    "new_bin_df.columns"
   ]
  },
  {
   "cell_type": "code",
   "execution_count": 52,
   "id": "d17fb717",
   "metadata": {},
   "outputs": [],
   "source": [
    "clean_df = new_bin_df.drop(['Education_Level','Marital_Status','Income_Category','Card_Category'], axis = 1)"
   ]
  },
  {
   "cell_type": "code",
   "execution_count": 53,
   "id": "ba133406",
   "metadata": {},
   "outputs": [
    {
     "data": {
      "text/html": [
       "<div>\n",
       "<style scoped>\n",
       "    .dataframe tbody tr th:only-of-type {\n",
       "        vertical-align: middle;\n",
       "    }\n",
       "\n",
       "    .dataframe tbody tr th {\n",
       "        vertical-align: top;\n",
       "    }\n",
       "\n",
       "    .dataframe thead th {\n",
       "        text-align: right;\n",
       "    }\n",
       "</style>\n",
       "<table border=\"1\" class=\"dataframe\">\n",
       "  <thead>\n",
       "    <tr style=\"text-align: right;\">\n",
       "      <th></th>\n",
       "      <th>Customer_Age</th>\n",
       "      <th>Dependent_count</th>\n",
       "      <th>Months_on_book</th>\n",
       "      <th>Total_Relationship_Count</th>\n",
       "      <th>Months_Inactive_12_mon</th>\n",
       "      <th>Contacts_Count_12_mon</th>\n",
       "      <th>Credit_Limit</th>\n",
       "      <th>Total_Revolving_Bal</th>\n",
       "      <th>Avg_Open_To_Buy</th>\n",
       "      <th>Total_Amt_Chng_Q4_Q1</th>\n",
       "      <th>Total_Trans_Amt</th>\n",
       "      <th>Total_Trans_Ct</th>\n",
       "      <th>Total_Ct_Chng_Q4_Q1</th>\n",
       "      <th>Avg_Utilization_Ratio</th>\n",
       "      <th>binary_attrition</th>\n",
       "      <th>Gender_New</th>\n",
       "      <th>ranked_education</th>\n",
       "      <th>ranked_marital</th>\n",
       "      <th>ranked_income</th>\n",
       "      <th>ranked_card</th>\n",
       "    </tr>\n",
       "  </thead>\n",
       "  <tbody>\n",
       "    <tr>\n",
       "      <th>0</th>\n",
       "      <td>45</td>\n",
       "      <td>3</td>\n",
       "      <td>39</td>\n",
       "      <td>5</td>\n",
       "      <td>1</td>\n",
       "      <td>3</td>\n",
       "      <td>12691.0</td>\n",
       "      <td>777</td>\n",
       "      <td>11914.0</td>\n",
       "      <td>1.335</td>\n",
       "      <td>1144</td>\n",
       "      <td>42</td>\n",
       "      <td>1.625</td>\n",
       "      <td>0.061</td>\n",
       "      <td>0</td>\n",
       "      <td>0</td>\n",
       "      <td>1</td>\n",
       "      <td>2</td>\n",
       "      <td>2</td>\n",
       "      <td>0</td>\n",
       "    </tr>\n",
       "    <tr>\n",
       "      <th>1</th>\n",
       "      <td>49</td>\n",
       "      <td>5</td>\n",
       "      <td>44</td>\n",
       "      <td>6</td>\n",
       "      <td>1</td>\n",
       "      <td>2</td>\n",
       "      <td>8256.0</td>\n",
       "      <td>864</td>\n",
       "      <td>7392.0</td>\n",
       "      <td>1.541</td>\n",
       "      <td>1291</td>\n",
       "      <td>33</td>\n",
       "      <td>3.714</td>\n",
       "      <td>0.105</td>\n",
       "      <td>0</td>\n",
       "      <td>1</td>\n",
       "      <td>3</td>\n",
       "      <td>0</td>\n",
       "      <td>0</td>\n",
       "      <td>0</td>\n",
       "    </tr>\n",
       "    <tr>\n",
       "      <th>2</th>\n",
       "      <td>51</td>\n",
       "      <td>3</td>\n",
       "      <td>36</td>\n",
       "      <td>4</td>\n",
       "      <td>1</td>\n",
       "      <td>0</td>\n",
       "      <td>3418.0</td>\n",
       "      <td>0</td>\n",
       "      <td>3418.0</td>\n",
       "      <td>2.594</td>\n",
       "      <td>1887</td>\n",
       "      <td>20</td>\n",
       "      <td>2.333</td>\n",
       "      <td>0.000</td>\n",
       "      <td>0</td>\n",
       "      <td>0</td>\n",
       "      <td>3</td>\n",
       "      <td>2</td>\n",
       "      <td>3</td>\n",
       "      <td>0</td>\n",
       "    </tr>\n",
       "    <tr>\n",
       "      <th>3</th>\n",
       "      <td>40</td>\n",
       "      <td>4</td>\n",
       "      <td>34</td>\n",
       "      <td>3</td>\n",
       "      <td>4</td>\n",
       "      <td>1</td>\n",
       "      <td>3313.0</td>\n",
       "      <td>2517</td>\n",
       "      <td>796.0</td>\n",
       "      <td>1.405</td>\n",
       "      <td>1171</td>\n",
       "      <td>20</td>\n",
       "      <td>2.333</td>\n",
       "      <td>0.760</td>\n",
       "      <td>0</td>\n",
       "      <td>1</td>\n",
       "      <td>1</td>\n",
       "      <td>2</td>\n",
       "      <td>0</td>\n",
       "      <td>0</td>\n",
       "    </tr>\n",
       "    <tr>\n",
       "      <th>4</th>\n",
       "      <td>40</td>\n",
       "      <td>3</td>\n",
       "      <td>21</td>\n",
       "      <td>5</td>\n",
       "      <td>1</td>\n",
       "      <td>0</td>\n",
       "      <td>4716.0</td>\n",
       "      <td>0</td>\n",
       "      <td>4716.0</td>\n",
       "      <td>2.175</td>\n",
       "      <td>816</td>\n",
       "      <td>28</td>\n",
       "      <td>2.500</td>\n",
       "      <td>0.000</td>\n",
       "      <td>0</td>\n",
       "      <td>0</td>\n",
       "      <td>0</td>\n",
       "      <td>2</td>\n",
       "      <td>2</td>\n",
       "      <td>0</td>\n",
       "    </tr>\n",
       "  </tbody>\n",
       "</table>\n",
       "</div>"
      ],
      "text/plain": [
       "   Customer_Age  Dependent_count  Months_on_book  Total_Relationship_Count  \\\n",
       "0            45                3              39                         5   \n",
       "1            49                5              44                         6   \n",
       "2            51                3              36                         4   \n",
       "3            40                4              34                         3   \n",
       "4            40                3              21                         5   \n",
       "\n",
       "   Months_Inactive_12_mon  Contacts_Count_12_mon  Credit_Limit  \\\n",
       "0                       1                      3       12691.0   \n",
       "1                       1                      2        8256.0   \n",
       "2                       1                      0        3418.0   \n",
       "3                       4                      1        3313.0   \n",
       "4                       1                      0        4716.0   \n",
       "\n",
       "   Total_Revolving_Bal  Avg_Open_To_Buy  Total_Amt_Chng_Q4_Q1  \\\n",
       "0                  777          11914.0                 1.335   \n",
       "1                  864           7392.0                 1.541   \n",
       "2                    0           3418.0                 2.594   \n",
       "3                 2517            796.0                 1.405   \n",
       "4                    0           4716.0                 2.175   \n",
       "\n",
       "   Total_Trans_Amt  Total_Trans_Ct  Total_Ct_Chng_Q4_Q1  \\\n",
       "0             1144              42                1.625   \n",
       "1             1291              33                3.714   \n",
       "2             1887              20                2.333   \n",
       "3             1171              20                2.333   \n",
       "4              816              28                2.500   \n",
       "\n",
       "   Avg_Utilization_Ratio  binary_attrition  Gender_New  ranked_education  \\\n",
       "0                  0.061                 0           0                 1   \n",
       "1                  0.105                 0           1                 3   \n",
       "2                  0.000                 0           0                 3   \n",
       "3                  0.760                 0           1                 1   \n",
       "4                  0.000                 0           0                 0   \n",
       "\n",
       "   ranked_marital  ranked_income  ranked_card  \n",
       "0               2              2            0  \n",
       "1               0              0            0  \n",
       "2               2              3            0  \n",
       "3               2              0            0  \n",
       "4               2              2            0  "
      ]
     },
     "execution_count": 53,
     "metadata": {},
     "output_type": "execute_result"
    }
   ],
   "source": [
    "clean_df.head()"
   ]
  },
  {
   "cell_type": "code",
   "execution_count": 54,
   "id": "94c7acf1",
   "metadata": {},
   "outputs": [
    {
     "name": "stdout",
     "output_type": "stream",
     "text": [
      "<class 'pandas.core.frame.DataFrame'>\n",
      "RangeIndex: 10127 entries, 0 to 10126\n",
      "Data columns (total 20 columns):\n",
      " #   Column                    Non-Null Count  Dtype  \n",
      "---  ------                    --------------  -----  \n",
      " 0   Customer_Age              10127 non-null  int64  \n",
      " 1   Dependent_count           10127 non-null  int64  \n",
      " 2   Months_on_book            10127 non-null  int64  \n",
      " 3   Total_Relationship_Count  10127 non-null  int64  \n",
      " 4   Months_Inactive_12_mon    10127 non-null  int64  \n",
      " 5   Contacts_Count_12_mon     10127 non-null  int64  \n",
      " 6   Credit_Limit              10127 non-null  float64\n",
      " 7   Total_Revolving_Bal       10127 non-null  int64  \n",
      " 8   Avg_Open_To_Buy           10127 non-null  float64\n",
      " 9   Total_Amt_Chng_Q4_Q1      10127 non-null  float64\n",
      " 10  Total_Trans_Amt           10127 non-null  int64  \n",
      " 11  Total_Trans_Ct            10127 non-null  int64  \n",
      " 12  Total_Ct_Chng_Q4_Q1       10127 non-null  float64\n",
      " 13  Avg_Utilization_Ratio     10127 non-null  float64\n",
      " 14  binary_attrition          10127 non-null  int64  \n",
      " 15  Gender_New                10127 non-null  int64  \n",
      " 16  ranked_education          10127 non-null  int64  \n",
      " 17  ranked_marital            10127 non-null  int64  \n",
      " 18  ranked_income             10127 non-null  int64  \n",
      " 19  ranked_card               10127 non-null  int64  \n",
      "dtypes: float64(5), int64(15)\n",
      "memory usage: 1.5 MB\n"
     ]
    }
   ],
   "source": [
    "clean_df.info()"
   ]
  },
  {
   "cell_type": "markdown",
   "id": "766f602c",
   "metadata": {},
   "source": [
    "## Correlations Between Variables"
   ]
  },
  {
   "cell_type": "code",
   "execution_count": 55,
   "id": "4b9e90ca",
   "metadata": {},
   "outputs": [
    {
     "data": {
      "image/png": "[encoded data removed]",
      "text/plain": [
       "<Figure size 2160x576 with 2 Axes>"
      ]
     },
     "metadata": {
      "needs_background": "light"
     },
     "output_type": "display_data"
    }
   ],
   "source": [
    "heat = clean_df.corr()\n",
    "plt.figure(figsize=[30,8])\n",
    "plt.title(\"All Correlations Between Numeric Variables in Updated Data Frame\", size=30, pad=10)\n",
    "sns.heatmap(heat, annot=True)\n",
    "plt.show()"
   ]
  },
  {
   "cell_type": "markdown",
   "id": "6f497391",
   "metadata": {},
   "source": [
    "<b> Analysis: </b> There are a few relationships that are worth noting:\n",
    "\n",
    "<b> Gender and income has a strong correlation. </b>\n",
    "<br> &emsp; &#8226; It is unclear why gender has such a strong relationship with income. It is possible that the company interacts with specific customers with specific traits.</br>\n",
    "\n",
    "<b> Months with the company and customer age has a strong correlation. </b>\n",
    " <br>&emsp; &#8226; This relation could imply that the older you are, the more likely you want to settle with a bank rather than keep looking.</br>\n",
    "\n",
    "<b> Revolving balance and utilization has a noticeable correlation. </b>\n",
    " <br>&emsp; &#8226; The more customers use their card, the larger the balance gets.</br>\n",
    "\n",
    "<b> Transaction amount and number of transactions correlate strongly. </b>\n",
    " <br>&emsp; &#8226; The more transactions the customer makes, the more money the customer accrues on the card.</br>\n",
    "\n",
    "<b> The strongest correlation is between the average open to buy and the credit limit.</b>\n",
    " <br>&emsp; &#8226; Customers with larger credit limits appear to be paying off their balances more.</br>\n"
   ]
  },
  {
   "cell_type": "markdown",
   "id": "77d30e4a",
   "metadata": {},
   "source": [
    "## Next Steps: Conclude table changes, make any knew changes, explain final thoughts, add any other visuals, move onto ML algorithms"
   ]
  },
  {
   "cell_type": "code",
   "execution_count": 56,
   "id": "29f5f3c1",
   "metadata": {},
   "outputs": [
    {
     "data": {
      "text/html": [
       "<div>\n",
       "<style scoped>\n",
       "    .dataframe tbody tr th:only-of-type {\n",
       "        vertical-align: middle;\n",
       "    }\n",
       "\n",
       "    .dataframe tbody tr th {\n",
       "        vertical-align: top;\n",
       "    }\n",
       "\n",
       "    .dataframe thead th {\n",
       "        text-align: right;\n",
       "    }\n",
       "</style>\n",
       "<table border=\"1\" class=\"dataframe\">\n",
       "  <thead>\n",
       "    <tr style=\"text-align: right;\">\n",
       "      <th></th>\n",
       "      <th>Customer_Age</th>\n",
       "      <th>Dependent_count</th>\n",
       "      <th>Months_on_book</th>\n",
       "      <th>Total_Relationship_Count</th>\n",
       "      <th>Months_Inactive_12_mon</th>\n",
       "      <th>Contacts_Count_12_mon</th>\n",
       "      <th>Credit_Limit</th>\n",
       "      <th>Total_Revolving_Bal</th>\n",
       "      <th>Avg_Open_To_Buy</th>\n",
       "      <th>Total_Amt_Chng_Q4_Q1</th>\n",
       "      <th>Total_Trans_Amt</th>\n",
       "      <th>Total_Trans_Ct</th>\n",
       "      <th>Total_Ct_Chng_Q4_Q1</th>\n",
       "      <th>Avg_Utilization_Ratio</th>\n",
       "      <th>binary_attrition</th>\n",
       "      <th>Gender_New</th>\n",
       "      <th>ranked_education</th>\n",
       "      <th>ranked_marital</th>\n",
       "      <th>ranked_income</th>\n",
       "      <th>ranked_card</th>\n",
       "    </tr>\n",
       "  </thead>\n",
       "  <tbody>\n",
       "    <tr>\n",
       "      <th>0</th>\n",
       "      <td>45</td>\n",
       "      <td>3</td>\n",
       "      <td>39</td>\n",
       "      <td>5</td>\n",
       "      <td>1</td>\n",
       "      <td>3</td>\n",
       "      <td>12691.0</td>\n",
       "      <td>777</td>\n",
       "      <td>11914.0</td>\n",
       "      <td>1.335</td>\n",
       "      <td>1144</td>\n",
       "      <td>42</td>\n",
       "      <td>1.625</td>\n",
       "      <td>0.061</td>\n",
       "      <td>0</td>\n",
       "      <td>0</td>\n",
       "      <td>1</td>\n",
       "      <td>2</td>\n",
       "      <td>2</td>\n",
       "      <td>0</td>\n",
       "    </tr>\n",
       "    <tr>\n",
       "      <th>1</th>\n",
       "      <td>49</td>\n",
       "      <td>5</td>\n",
       "      <td>44</td>\n",
       "      <td>6</td>\n",
       "      <td>1</td>\n",
       "      <td>2</td>\n",
       "      <td>8256.0</td>\n",
       "      <td>864</td>\n",
       "      <td>7392.0</td>\n",
       "      <td>1.541</td>\n",
       "      <td>1291</td>\n",
       "      <td>33</td>\n",
       "      <td>3.714</td>\n",
       "      <td>0.105</td>\n",
       "      <td>0</td>\n",
       "      <td>1</td>\n",
       "      <td>3</td>\n",
       "      <td>0</td>\n",
       "      <td>0</td>\n",
       "      <td>0</td>\n",
       "    </tr>\n",
       "    <tr>\n",
       "      <th>2</th>\n",
       "      <td>51</td>\n",
       "      <td>3</td>\n",
       "      <td>36</td>\n",
       "      <td>4</td>\n",
       "      <td>1</td>\n",
       "      <td>0</td>\n",
       "      <td>3418.0</td>\n",
       "      <td>0</td>\n",
       "      <td>3418.0</td>\n",
       "      <td>2.594</td>\n",
       "      <td>1887</td>\n",
       "      <td>20</td>\n",
       "      <td>2.333</td>\n",
       "      <td>0.000</td>\n",
       "      <td>0</td>\n",
       "      <td>0</td>\n",
       "      <td>3</td>\n",
       "      <td>2</td>\n",
       "      <td>3</td>\n",
       "      <td>0</td>\n",
       "    </tr>\n",
       "    <tr>\n",
       "      <th>3</th>\n",
       "      <td>40</td>\n",
       "      <td>4</td>\n",
       "      <td>34</td>\n",
       "      <td>3</td>\n",
       "      <td>4</td>\n",
       "      <td>1</td>\n",
       "      <td>3313.0</td>\n",
       "      <td>2517</td>\n",
       "      <td>796.0</td>\n",
       "      <td>1.405</td>\n",
       "      <td>1171</td>\n",
       "      <td>20</td>\n",
       "      <td>2.333</td>\n",
       "      <td>0.760</td>\n",
       "      <td>0</td>\n",
       "      <td>1</td>\n",
       "      <td>1</td>\n",
       "      <td>2</td>\n",
       "      <td>0</td>\n",
       "      <td>0</td>\n",
       "    </tr>\n",
       "    <tr>\n",
       "      <th>4</th>\n",
       "      <td>40</td>\n",
       "      <td>3</td>\n",
       "      <td>21</td>\n",
       "      <td>5</td>\n",
       "      <td>1</td>\n",
       "      <td>0</td>\n",
       "      <td>4716.0</td>\n",
       "      <td>0</td>\n",
       "      <td>4716.0</td>\n",
       "      <td>2.175</td>\n",
       "      <td>816</td>\n",
       "      <td>28</td>\n",
       "      <td>2.500</td>\n",
       "      <td>0.000</td>\n",
       "      <td>0</td>\n",
       "      <td>0</td>\n",
       "      <td>0</td>\n",
       "      <td>2</td>\n",
       "      <td>2</td>\n",
       "      <td>0</td>\n",
       "    </tr>\n",
       "  </tbody>\n",
       "</table>\n",
       "</div>"
      ],
      "text/plain": [
       "   Customer_Age  Dependent_count  Months_on_book  Total_Relationship_Count  \\\n",
       "0            45                3              39                         5   \n",
       "1            49                5              44                         6   \n",
       "2            51                3              36                         4   \n",
       "3            40                4              34                         3   \n",
       "4            40                3              21                         5   \n",
       "\n",
       "   Months_Inactive_12_mon  Contacts_Count_12_mon  Credit_Limit  \\\n",
       "0                       1                      3       12691.0   \n",
       "1                       1                      2        8256.0   \n",
       "2                       1                      0        3418.0   \n",
       "3                       4                      1        3313.0   \n",
       "4                       1                      0        4716.0   \n",
       "\n",
       "   Total_Revolving_Bal  Avg_Open_To_Buy  Total_Amt_Chng_Q4_Q1  \\\n",
       "0                  777          11914.0                 1.335   \n",
       "1                  864           7392.0                 1.541   \n",
       "2                    0           3418.0                 2.594   \n",
       "3                 2517            796.0                 1.405   \n",
       "4                    0           4716.0                 2.175   \n",
       "\n",
       "   Total_Trans_Amt  Total_Trans_Ct  Total_Ct_Chng_Q4_Q1  \\\n",
       "0             1144              42                1.625   \n",
       "1             1291              33                3.714   \n",
       "2             1887              20                2.333   \n",
       "3             1171              20                2.333   \n",
       "4              816              28                2.500   \n",
       "\n",
       "   Avg_Utilization_Ratio  binary_attrition  Gender_New  ranked_education  \\\n",
       "0                  0.061                 0           0                 1   \n",
       "1                  0.105                 0           1                 3   \n",
       "2                  0.000                 0           0                 3   \n",
       "3                  0.760                 0           1                 1   \n",
       "4                  0.000                 0           0                 0   \n",
       "\n",
       "   ranked_marital  ranked_income  ranked_card  \n",
       "0               2              2            0  \n",
       "1               0              0            0  \n",
       "2               2              3            0  \n",
       "3               2              0            0  \n",
       "4               2              2            0  "
      ]
     },
     "execution_count": 56,
     "metadata": {},
     "output_type": "execute_result"
    }
   ],
   "source": [
    "clean_df.head()"
   ]
  },
  {
   "cell_type": "code",
   "execution_count": 57,
   "id": "f92ba190",
   "metadata": {},
   "outputs": [
    {
     "data": {
      "text/plain": [
       "(10127, 20)"
      ]
     },
     "execution_count": 57,
     "metadata": {},
     "output_type": "execute_result"
    }
   ],
   "source": [
    "clean_df.shape"
   ]
  },
  {
   "cell_type": "markdown",
   "id": "69a13ea8",
   "metadata": {},
   "source": [
    "## Multicollinearity"
   ]
  },
  {
   "cell_type": "markdown",
   "id": "a999259a",
   "metadata": {},
   "source": [
    "Before moving into the modeling phase, the dataset must be truncated if there are variables with strong correlations with one another. This will be tested using a VIF measure. This measure searches the variables in the data set and assigns a value:\n",
    "<br>$$\\text{VIF }= \\frac{1}{1 -R^2}$$</br>\n",
    "<br> Where R-squared stands for the coefficient of determination </br>\n",
    "<br> <b>Impact:</b> Multicollinearity is a serious issue and a few steps can be take. If we choose to use linear regression, we must make sure that each predictor is independent of one another. We can do this by using the VIF measure to identify problematic features and remove them. For nonlinear regression, we will be dealing with multicollinearity a different way. Since the data expects interactions between predictors, we do not necessarily have to remove predictors. However, we still have to account for multicollinearity. We do this by standardizing the required columns. By doing this we are artificially reducing the multicollinearity. If we check the VIFs after the standardization and we spot a problem, we can decide to remove the column. The dataset will be split into one that retains all predictors and one that reduces the VIF value. Typically, values greater than 5 indicate a column with high multicollinearity."
   ]
  },
  {
   "cell_type": "code",
   "execution_count": 58,
   "id": "708fdbb6",
   "metadata": {},
   "outputs": [],
   "source": [
    "from statsmodels.stats.outliers_influence import variance_inflation_factor"
   ]
  },
  {
   "cell_type": "code",
   "execution_count": 59,
   "id": "78a77c91",
   "metadata": {},
   "outputs": [
    {
     "name": "stdout",
     "output_type": "stream",
     "text": [
      "                     feature        VIF\n",
      "0               Customer_Age  79.276225\n",
      "1            Dependent_count   4.263032\n",
      "2             Months_on_book  56.462907\n",
      "3   Total_Relationship_Count   7.651383\n",
      "4     Months_Inactive_12_mon   6.385357\n",
      "5      Contacts_Count_12_mon   5.930312\n",
      "6               Credit_Limit        inf\n",
      "7        Total_Revolving_Bal        inf\n",
      "8            Avg_Open_To_Buy        inf\n",
      "9       Total_Amt_Chng_Q4_Q1  14.186696\n",
      "10           Total_Trans_Amt   9.112608\n",
      "11            Total_Trans_Ct  27.290651\n",
      "12       Total_Ct_Chng_Q4_Q1  12.167819\n",
      "13     Avg_Utilization_Ratio   5.867092\n",
      "14          binary_attrition   1.730992\n",
      "15                Gender_New   5.729578\n",
      "16          ranked_education   3.593639\n",
      "17            ranked_marital   2.489850\n",
      "18             ranked_income   5.626667\n",
      "19               ranked_card   1.519145\n"
     ]
    },
    {
     "name": "stderr",
     "output_type": "stream",
     "text": [
      "C:\\Users\\orteg\\anaconda3\\lib\\site-packages\\statsmodels\\stats\\outliers_influence.py:193: RuntimeWarning: divide by zero encountered in double_scalars\n",
      "  vif = 1. / (1. - r_squared_i)\n"
     ]
    }
   ],
   "source": [
    "vif_data = pd.DataFrame()\n",
    "vif_data[\"feature\"] = clean_df.columns\n",
    "  \n",
    "# calculating VIF for each feature\n",
    "vif_data[\"VIF\"] = [variance_inflation_factor(clean_df.values, i)\n",
    "                          for i in range(len(clean_df.columns))]\n",
    "  \n",
    "print(vif_data)"
   ]
  },
  {
   "cell_type": "markdown",
   "id": "65313de4",
   "metadata": {},
   "source": [
    "For the next block of code, a series of drops were conducted and finalized. Each column dropped was based on having the highest VIF in that set. The final results display the remaining columns that, together, fall below the limit."
   ]
  },
  {
   "cell_type": "code",
   "execution_count": 60,
   "id": "17da7aa2",
   "metadata": {},
   "outputs": [
    {
     "name": "stdout",
     "output_type": "stream",
     "text": [
      "                  feature       VIF\n",
      "0         Dependent_count  3.974431\n",
      "1   Contacts_Count_12_mon  4.860110\n",
      "2            Credit_Limit  4.205729\n",
      "3         Total_Trans_Amt  2.650478\n",
      "4   Avg_Utilization_Ratio  2.468119\n",
      "5        binary_attrition  1.335999\n",
      "6              Gender_New  4.251059\n",
      "7        ranked_education  3.318331\n",
      "8          ranked_marital  2.354729\n",
      "9           ranked_income  4.690460\n",
      "10            ranked_card  1.509560\n"
     ]
    }
   ],
   "source": [
    "reg_df = clean_df.drop([\"Avg_Open_To_Buy\", \"Customer_Age\", \"Total_Trans_Ct\", \"Months_on_book\",\"Total_Amt_Chng_Q4_Q1\",\n",
    "                    \"Total_Ct_Chng_Q4_Q1\", \"Total_Revolving_Bal\", \"Total_Relationship_Count\",\n",
    "                    \"Months_Inactive_12_mon\"], axis = 1)\n",
    "vif_data = pd.DataFrame()\n",
    "vif_data[\"feature\"] = reg_df.columns\n",
    "  \n",
    "# calculating VIF for each feature\n",
    "vif_data[\"VIF\"] = [variance_inflation_factor(reg_df.values, i)\n",
    "                          for i in range(len(reg_df.columns))]\n",
    "  \n",
    "print(vif_data)"
   ]
  },
  {
   "cell_type": "markdown",
   "id": "1ea03744",
   "metadata": {},
   "source": [
    "If we plan to use linear regression, we can reference this dataset."
   ]
  },
  {
   "cell_type": "markdown",
   "id": "46442443",
   "metadata": {},
   "source": [
    "## Standardizing the Data"
   ]
  },
  {
   "cell_type": "markdown",
   "id": "09de7488",
   "metadata": {},
   "source": [
    "The purpose of standardizing data is to adjust continuous predictors by reducing multicollinearity. Since tree-based models do not require standardization, two datasets will be made: one that standardizes, and one that does not. Both models will be tested using the decision tree model. "
   ]
  },
  {
   "cell_type": "code",
   "execution_count": 61,
   "id": "deeb4293",
   "metadata": {},
   "outputs": [
    {
     "data": {
      "text/plain": [
       "Index(['Customer_Age', 'Dependent_count', 'Months_on_book',\n",
       "       'Total_Relationship_Count', 'Months_Inactive_12_mon',\n",
       "       'Contacts_Count_12_mon', 'Credit_Limit', 'Total_Revolving_Bal',\n",
       "       'Avg_Open_To_Buy', 'Total_Amt_Chng_Q4_Q1', 'Total_Trans_Amt',\n",
       "       'Total_Trans_Ct', 'Total_Ct_Chng_Q4_Q1', 'Avg_Utilization_Ratio',\n",
       "       'binary_attrition', 'Gender_New', 'ranked_education', 'ranked_marital',\n",
       "       'ranked_income', 'ranked_card'],\n",
       "      dtype='object')"
      ]
     },
     "execution_count": 61,
     "metadata": {},
     "output_type": "execute_result"
    }
   ],
   "source": [
    "clean_df.columns"
   ]
  },
  {
   "cell_type": "markdown",
   "id": "0b0bd5ee",
   "metadata": {},
   "source": [
    "The first step will be to split the data into categorical and numerical datasets."
   ]
  },
  {
   "cell_type": "code",
   "execution_count": 62,
   "id": "109842e5",
   "metadata": {},
   "outputs": [],
   "source": [
    "cat_df = clean_df.drop(['Customer_Age','Dependent_count','Months_on_book','Total_Relationship_Count','Months_Inactive_12_mon',\n",
    "                       'Contacts_Count_12_mon','Credit_Limit','Total_Revolving_Bal','Avg_Open_To_Buy','Total_Amt_Chng_Q4_Q1',\n",
    "                       'Total_Trans_Amt','Total_Trans_Ct','Total_Ct_Chng_Q4_Q1','Avg_Utilization_Ratio'], axis= 1)\n",
    "num_df = clean_df.drop(['binary_attrition','Gender_New','ranked_education','ranked_marital','ranked_income', 'ranked_card']\n",
    "                       , axis = 1)"
   ]
  },
  {
   "cell_type": "markdown",
   "id": "b2a12749",
   "metadata": {},
   "source": [
    "For the next part, we can either standardize the numerical data or deal with the categorical data. We will standardize the numeric data first."
   ]
  },
  {
   "cell_type": "markdown",
   "id": "27b8623c",
   "metadata": {},
   "source": [
    "#### How are we treating the numeric data?"
   ]
  },
  {
   "cell_type": "markdown",
   "id": "449eca7b",
   "metadata": {},
   "source": [
    "The first step is installing the package that will standardize the data for us."
   ]
  },
  {
   "cell_type": "code",
   "execution_count": 63,
   "id": "de8cf375",
   "metadata": {},
   "outputs": [],
   "source": [
    "from sklearn import preprocessing"
   ]
  },
  {
   "cell_type": "code",
   "execution_count": 64,
   "id": "2d8b8662",
   "metadata": {},
   "outputs": [],
   "source": [
    "std_num_df = preprocessing.scale(num_df, axis=0)"
   ]
  },
  {
   "cell_type": "code",
   "execution_count": 65,
   "id": "c5943a87",
   "metadata": {},
   "outputs": [
    {
     "data": {
      "text/html": [
       "<div>\n",
       "<style scoped>\n",
       "    .dataframe tbody tr th:only-of-type {\n",
       "        vertical-align: middle;\n",
       "    }\n",
       "\n",
       "    .dataframe tbody tr th {\n",
       "        vertical-align: top;\n",
       "    }\n",
       "\n",
       "    .dataframe thead th {\n",
       "        text-align: right;\n",
       "    }\n",
       "</style>\n",
       "<table border=\"1\" class=\"dataframe\">\n",
       "  <thead>\n",
       "    <tr style=\"text-align: right;\">\n",
       "      <th></th>\n",
       "      <th>Customer_Age</th>\n",
       "      <th>Dependent_count</th>\n",
       "      <th>Months_on_book</th>\n",
       "      <th>Total_Relationship_Count</th>\n",
       "      <th>Months_Inactive_12_mon</th>\n",
       "      <th>Contacts_Count_12_mon</th>\n",
       "      <th>Credit_Limit</th>\n",
       "      <th>Total_Revolving_Bal</th>\n",
       "      <th>Avg_Open_To_Buy</th>\n",
       "      <th>Total_Amt_Chng_Q4_Q1</th>\n",
       "      <th>Total_Trans_Amt</th>\n",
       "      <th>Total_Trans_Ct</th>\n",
       "      <th>Total_Ct_Chng_Q4_Q1</th>\n",
       "      <th>Avg_Utilization_Ratio</th>\n",
       "    </tr>\n",
       "  </thead>\n",
       "  <tbody>\n",
       "    <tr>\n",
       "      <th>count</th>\n",
       "      <td>1.012700e+04</td>\n",
       "      <td>1.012700e+04</td>\n",
       "      <td>1.012700e+04</td>\n",
       "      <td>1.012700e+04</td>\n",
       "      <td>1.012700e+04</td>\n",
       "      <td>1.012700e+04</td>\n",
       "      <td>1.012700e+04</td>\n",
       "      <td>1.012700e+04</td>\n",
       "      <td>1.012700e+04</td>\n",
       "      <td>1.012700e+04</td>\n",
       "      <td>1.012700e+04</td>\n",
       "      <td>1.012700e+04</td>\n",
       "      <td>1.012700e+04</td>\n",
       "      <td>1.012700e+04</td>\n",
       "    </tr>\n",
       "    <tr>\n",
       "      <th>mean</th>\n",
       "      <td>3.127744e-17</td>\n",
       "      <td>5.680062e-15</td>\n",
       "      <td>-5.687166e-16</td>\n",
       "      <td>8.453372e-15</td>\n",
       "      <td>-2.129892e-15</td>\n",
       "      <td>1.588144e-15</td>\n",
       "      <td>9.430893e-16</td>\n",
       "      <td>-1.830898e-15</td>\n",
       "      <td>-4.386159e-17</td>\n",
       "      <td>2.801869e-16</td>\n",
       "      <td>-5.134192e-16</td>\n",
       "      <td>1.194179e-14</td>\n",
       "      <td>-1.306570e-16</td>\n",
       "      <td>-2.298338e-16</td>\n",
       "    </tr>\n",
       "    <tr>\n",
       "      <th>std</th>\n",
       "      <td>1.000049e+00</td>\n",
       "      <td>1.000049e+00</td>\n",
       "      <td>1.000049e+00</td>\n",
       "      <td>1.000049e+00</td>\n",
       "      <td>1.000049e+00</td>\n",
       "      <td>1.000049e+00</td>\n",
       "      <td>1.000049e+00</td>\n",
       "      <td>1.000049e+00</td>\n",
       "      <td>1.000049e+00</td>\n",
       "      <td>1.000049e+00</td>\n",
       "      <td>1.000049e+00</td>\n",
       "      <td>1.000049e+00</td>\n",
       "      <td>1.000049e+00</td>\n",
       "      <td>1.000049e+00</td>\n",
       "    </tr>\n",
       "    <tr>\n",
       "      <th>min</th>\n",
       "      <td>-2.535541e+00</td>\n",
       "      <td>-1.806378e+00</td>\n",
       "      <td>-2.871068e+00</td>\n",
       "      <td>-1.809512e+00</td>\n",
       "      <td>-2.316674e+00</td>\n",
       "      <td>-2.219655e+00</td>\n",
       "      <td>-7.915266e-01</td>\n",
       "      <td>-1.426858e+00</td>\n",
       "      <td>-8.213361e-01</td>\n",
       "      <td>-3.466947e+00</td>\n",
       "      <td>-1.146344e+00</td>\n",
       "      <td>-2.337256e+00</td>\n",
       "      <td>-2.991597e+00</td>\n",
       "      <td>-9.971550e-01</td>\n",
       "    </tr>\n",
       "    <tr>\n",
       "      <th>25%</th>\n",
       "      <td>-6.643815e-01</td>\n",
       "      <td>-1.036462e+00</td>\n",
       "      <td>-6.171294e-01</td>\n",
       "      <td>-5.227845e-01</td>\n",
       "      <td>-3.375979e-01</td>\n",
       "      <td>-4.116160e-01</td>\n",
       "      <td>-6.686548e-01</td>\n",
       "      <td>-9.863389e-01</td>\n",
       "      <td>-6.759604e-01</td>\n",
       "      <td>-5.882438e-01</td>\n",
       "      <td>-6.619405e-01</td>\n",
       "      <td>-8.460801e-01</td>\n",
       "      <td>-5.469820e-01</td>\n",
       "      <td>-9.137243e-01</td>\n",
       "    </tr>\n",
       "    <tr>\n",
       "      <th>50%</th>\n",
       "      <td>-4.066159e-02</td>\n",
       "      <td>-2.665471e-01</td>\n",
       "      <td>8.964513e-03</td>\n",
       "      <td>1.205790e-01</td>\n",
       "      <td>-3.375979e-01</td>\n",
       "      <td>-4.116160e-01</td>\n",
       "      <td>-4.492525e-01</td>\n",
       "      <td>1.388875e-01</td>\n",
       "      <td>-4.394979e-01</td>\n",
       "      <td>-1.092203e-01</td>\n",
       "      <td>-1.486877e-01</td>\n",
       "      <td>9.123036e-02</td>\n",
       "      <td>-4.293775e-02</td>\n",
       "      <td>-3.587287e-01</td>\n",
       "    </tr>\n",
       "    <tr>\n",
       "      <th>75%</th>\n",
       "      <td>7.078024e-01</td>\n",
       "      <td>5.033681e-01</td>\n",
       "      <td>5.098397e-01</td>\n",
       "      <td>7.639426e-01</td>\n",
       "      <td>6.519402e-01</td>\n",
       "      <td>4.924038e-01</td>\n",
       "      <td>2.679862e-01</td>\n",
       "      <td>7.622408e-01</td>\n",
       "      <td>2.629041e-01</td>\n",
       "      <td>4.519214e-01</td>\n",
       "      <td>9.918090e-02</td>\n",
       "      <td>6.877007e-01</td>\n",
       "      <td>4.443050e-01</td>\n",
       "      <td>8.274384e-01</td>\n",
       "    </tr>\n",
       "    <tr>\n",
       "      <th>max</th>\n",
       "      <td>3.327426e+00</td>\n",
       "      <td>2.043199e+00</td>\n",
       "      <td>2.513340e+00</td>\n",
       "      <td>1.407306e+00</td>\n",
       "      <td>3.620555e+00</td>\n",
       "      <td>3.204463e+00</td>\n",
       "      <td>2.848054e+00</td>\n",
       "      <td>1.661686e+00</td>\n",
       "      <td>2.975375e+00</td>\n",
       "      <td>1.203060e+01</td>\n",
       "      <td>4.144855e+00</td>\n",
       "      <td>3.158792e+00</td>\n",
       "      <td>1.260857e+01</td>\n",
       "      <td>2.626640e+00</td>\n",
       "    </tr>\n",
       "  </tbody>\n",
       "</table>\n",
       "</div>"
      ],
      "text/plain": [
       "       Customer_Age  Dependent_count  Months_on_book  \\\n",
       "count  1.012700e+04     1.012700e+04    1.012700e+04   \n",
       "mean   3.127744e-17     5.680062e-15   -5.687166e-16   \n",
       "std    1.000049e+00     1.000049e+00    1.000049e+00   \n",
       "min   -2.535541e+00    -1.806378e+00   -2.871068e+00   \n",
       "25%   -6.643815e-01    -1.036462e+00   -6.171294e-01   \n",
       "50%   -4.066159e-02    -2.665471e-01    8.964513e-03   \n",
       "75%    7.078024e-01     5.033681e-01    5.098397e-01   \n",
       "max    3.327426e+00     2.043199e+00    2.513340e+00   \n",
       "\n",
       "       Total_Relationship_Count  Months_Inactive_12_mon  \\\n",
       "count              1.012700e+04            1.012700e+04   \n",
       "mean               8.453372e-15           -2.129892e-15   \n",
       "std                1.000049e+00            1.000049e+00   \n",
       "min               -1.809512e+00           -2.316674e+00   \n",
       "25%               -5.227845e-01           -3.375979e-01   \n",
       "50%                1.205790e-01           -3.375979e-01   \n",
       "75%                7.639426e-01            6.519402e-01   \n",
       "max                1.407306e+00            3.620555e+00   \n",
       "\n",
       "       Contacts_Count_12_mon  Credit_Limit  Total_Revolving_Bal  \\\n",
       "count           1.012700e+04  1.012700e+04         1.012700e+04   \n",
       "mean            1.588144e-15  9.430893e-16        -1.830898e-15   \n",
       "std             1.000049e+00  1.000049e+00         1.000049e+00   \n",
       "min            -2.219655e+00 -7.915266e-01        -1.426858e+00   \n",
       "25%            -4.116160e-01 -6.686548e-01        -9.863389e-01   \n",
       "50%            -4.116160e-01 -4.492525e-01         1.388875e-01   \n",
       "75%             4.924038e-01  2.679862e-01         7.622408e-01   \n",
       "max             3.204463e+00  2.848054e+00         1.661686e+00   \n",
       "\n",
       "       Avg_Open_To_Buy  Total_Amt_Chng_Q4_Q1  Total_Trans_Amt  Total_Trans_Ct  \\\n",
       "count     1.012700e+04          1.012700e+04     1.012700e+04    1.012700e+04   \n",
       "mean     -4.386159e-17          2.801869e-16    -5.134192e-16    1.194179e-14   \n",
       "std       1.000049e+00          1.000049e+00     1.000049e+00    1.000049e+00   \n",
       "min      -8.213361e-01         -3.466947e+00    -1.146344e+00   -2.337256e+00   \n",
       "25%      -6.759604e-01         -5.882438e-01    -6.619405e-01   -8.460801e-01   \n",
       "50%      -4.394979e-01         -1.092203e-01    -1.486877e-01    9.123036e-02   \n",
       "75%       2.629041e-01          4.519214e-01     9.918090e-02    6.877007e-01   \n",
       "max       2.975375e+00          1.203060e+01     4.144855e+00    3.158792e+00   \n",
       "\n",
       "       Total_Ct_Chng_Q4_Q1  Avg_Utilization_Ratio  \n",
       "count         1.012700e+04           1.012700e+04  \n",
       "mean         -1.306570e-16          -2.298338e-16  \n",
       "std           1.000049e+00           1.000049e+00  \n",
       "min          -2.991597e+00          -9.971550e-01  \n",
       "25%          -5.469820e-01          -9.137243e-01  \n",
       "50%          -4.293775e-02          -3.587287e-01  \n",
       "75%           4.443050e-01           8.274384e-01  \n",
       "max           1.260857e+01           2.626640e+00  "
      ]
     },
     "execution_count": 65,
     "metadata": {},
     "output_type": "execute_result"
    }
   ],
   "source": [
    "std_num_df = pd.DataFrame(std_num_df, columns = num_df.columns, index = num_df.index)\n",
    "std_num_df.describe()"
   ]
  },
  {
   "cell_type": "markdown",
   "id": "22a9b24f",
   "metadata": {},
   "source": [
    "#### How are we treating the categorical data?"
   ]
  },
  {
   "cell_type": "markdown",
   "id": "115e87a0",
   "metadata": {},
   "source": [
    "First, we can double check the kind of categorical data we have:"
   ]
  },
  {
   "cell_type": "code",
   "execution_count": 66,
   "id": "8e6d7d56",
   "metadata": {},
   "outputs": [
    {
     "data": {
      "text/html": [
       "<div>\n",
       "<style scoped>\n",
       "    .dataframe tbody tr th:only-of-type {\n",
       "        vertical-align: middle;\n",
       "    }\n",
       "\n",
       "    .dataframe tbody tr th {\n",
       "        vertical-align: top;\n",
       "    }\n",
       "\n",
       "    .dataframe thead th {\n",
       "        text-align: right;\n",
       "    }\n",
       "</style>\n",
       "<table border=\"1\" class=\"dataframe\">\n",
       "  <thead>\n",
       "    <tr style=\"text-align: right;\">\n",
       "      <th></th>\n",
       "      <th>binary_attrition</th>\n",
       "      <th>Gender_New</th>\n",
       "      <th>ranked_education</th>\n",
       "      <th>ranked_marital</th>\n",
       "      <th>ranked_income</th>\n",
       "      <th>ranked_card</th>\n",
       "    </tr>\n",
       "  </thead>\n",
       "  <tbody>\n",
       "    <tr>\n",
       "      <th>0</th>\n",
       "      <td>0</td>\n",
       "      <td>0</td>\n",
       "      <td>1</td>\n",
       "      <td>2</td>\n",
       "      <td>2</td>\n",
       "      <td>0</td>\n",
       "    </tr>\n",
       "    <tr>\n",
       "      <th>1</th>\n",
       "      <td>0</td>\n",
       "      <td>1</td>\n",
       "      <td>3</td>\n",
       "      <td>0</td>\n",
       "      <td>0</td>\n",
       "      <td>0</td>\n",
       "    </tr>\n",
       "    <tr>\n",
       "      <th>2</th>\n",
       "      <td>0</td>\n",
       "      <td>0</td>\n",
       "      <td>3</td>\n",
       "      <td>2</td>\n",
       "      <td>3</td>\n",
       "      <td>0</td>\n",
       "    </tr>\n",
       "    <tr>\n",
       "      <th>3</th>\n",
       "      <td>0</td>\n",
       "      <td>1</td>\n",
       "      <td>1</td>\n",
       "      <td>2</td>\n",
       "      <td>0</td>\n",
       "      <td>0</td>\n",
       "    </tr>\n",
       "    <tr>\n",
       "      <th>4</th>\n",
       "      <td>0</td>\n",
       "      <td>0</td>\n",
       "      <td>0</td>\n",
       "      <td>2</td>\n",
       "      <td>2</td>\n",
       "      <td>0</td>\n",
       "    </tr>\n",
       "  </tbody>\n",
       "</table>\n",
       "</div>"
      ],
      "text/plain": [
       "   binary_attrition  Gender_New  ranked_education  ranked_marital  \\\n",
       "0                 0           0                 1               2   \n",
       "1                 0           1                 3               0   \n",
       "2                 0           0                 3               2   \n",
       "3                 0           1                 1               2   \n",
       "4                 0           0                 0               2   \n",
       "\n",
       "   ranked_income  ranked_card  \n",
       "0              2            0  \n",
       "1              0            0  \n",
       "2              3            0  \n",
       "3              0            0  \n",
       "4              2            0  "
      ]
     },
     "execution_count": 66,
     "metadata": {},
     "output_type": "execute_result"
    }
   ],
   "source": [
    "cat_df.head()"
   ]
  },
  {
   "cell_type": "markdown",
   "id": "f9537682",
   "metadata": {},
   "source": [
    "Attrition and gender are the only nominal types of categorical data and the rest are ordinal. Since we have already manually encoded the rank and substituted the nominal columns with numeric values, no other work needs to be done. Now, the data can be reattached. Note that we will have a standardized and a non-standardized datasets."
   ]
  },
  {
   "cell_type": "code",
   "execution_count": 67,
   "id": "0e7b9d6c",
   "metadata": {},
   "outputs": [],
   "source": [
    "std_df = pd.concat([cat_df,std_num_df], axis = 1)\n",
    "non_std_df = pd.DataFrame(clean_df, columns = clean_df.columns, index = clean_df.index)"
   ]
  },
  {
   "cell_type": "markdown",
   "id": "1b326382",
   "metadata": {},
   "source": [
    "For comparison: "
   ]
  },
  {
   "cell_type": "code",
   "execution_count": 68,
   "id": "a5dee820",
   "metadata": {},
   "outputs": [
    {
     "data": {
      "text/html": [
       "<div>\n",
       "<style scoped>\n",
       "    .dataframe tbody tr th:only-of-type {\n",
       "        vertical-align: middle;\n",
       "    }\n",
       "\n",
       "    .dataframe tbody tr th {\n",
       "        vertical-align: top;\n",
       "    }\n",
       "\n",
       "    .dataframe thead th {\n",
       "        text-align: right;\n",
       "    }\n",
       "</style>\n",
       "<table border=\"1\" class=\"dataframe\">\n",
       "  <thead>\n",
       "    <tr style=\"text-align: right;\">\n",
       "      <th></th>\n",
       "      <th>binary_attrition</th>\n",
       "      <th>Gender_New</th>\n",
       "      <th>ranked_education</th>\n",
       "      <th>ranked_marital</th>\n",
       "      <th>ranked_income</th>\n",
       "      <th>ranked_card</th>\n",
       "      <th>Customer_Age</th>\n",
       "      <th>Dependent_count</th>\n",
       "      <th>Months_on_book</th>\n",
       "      <th>Total_Relationship_Count</th>\n",
       "      <th>Months_Inactive_12_mon</th>\n",
       "      <th>Contacts_Count_12_mon</th>\n",
       "      <th>Credit_Limit</th>\n",
       "      <th>Total_Revolving_Bal</th>\n",
       "      <th>Avg_Open_To_Buy</th>\n",
       "      <th>Total_Amt_Chng_Q4_Q1</th>\n",
       "      <th>Total_Trans_Amt</th>\n",
       "      <th>Total_Trans_Ct</th>\n",
       "      <th>Total_Ct_Chng_Q4_Q1</th>\n",
       "      <th>Avg_Utilization_Ratio</th>\n",
       "    </tr>\n",
       "  </thead>\n",
       "  <tbody>\n",
       "    <tr>\n",
       "      <th>0</th>\n",
       "      <td>0</td>\n",
       "      <td>0</td>\n",
       "      <td>1</td>\n",
       "      <td>2</td>\n",
       "      <td>2</td>\n",
       "      <td>0</td>\n",
       "      <td>-0.165406</td>\n",
       "      <td>0.503368</td>\n",
       "      <td>0.384621</td>\n",
       "      <td>0.763943</td>\n",
       "      <td>-1.327136</td>\n",
       "      <td>0.492404</td>\n",
       "      <td>0.446622</td>\n",
       "      <td>-0.473422</td>\n",
       "      <td>0.488971</td>\n",
       "      <td>2.623494</td>\n",
       "      <td>-0.959707</td>\n",
       "      <td>-0.973895</td>\n",
       "      <td>3.834003</td>\n",
       "      <td>-0.775882</td>\n",
       "    </tr>\n",
       "    <tr>\n",
       "      <th>1</th>\n",
       "      <td>0</td>\n",
       "      <td>1</td>\n",
       "      <td>3</td>\n",
       "      <td>0</td>\n",
       "      <td>0</td>\n",
       "      <td>0</td>\n",
       "      <td>0.333570</td>\n",
       "      <td>2.043199</td>\n",
       "      <td>1.010715</td>\n",
       "      <td>1.407306</td>\n",
       "      <td>-1.327136</td>\n",
       "      <td>-0.411616</td>\n",
       "      <td>-0.041367</td>\n",
       "      <td>-0.366667</td>\n",
       "      <td>-0.008486</td>\n",
       "      <td>3.563293</td>\n",
       "      <td>-0.916433</td>\n",
       "      <td>-1.357340</td>\n",
       "      <td>12.608573</td>\n",
       "      <td>-0.616276</td>\n",
       "    </tr>\n",
       "    <tr>\n",
       "      <th>2</th>\n",
       "      <td>0</td>\n",
       "      <td>0</td>\n",
       "      <td>3</td>\n",
       "      <td>2</td>\n",
       "      <td>3</td>\n",
       "      <td>0</td>\n",
       "      <td>0.583058</td>\n",
       "      <td>0.503368</td>\n",
       "      <td>0.008965</td>\n",
       "      <td>0.120579</td>\n",
       "      <td>-1.327136</td>\n",
       "      <td>-2.219655</td>\n",
       "      <td>-0.573698</td>\n",
       "      <td>-1.426858</td>\n",
       "      <td>-0.445658</td>\n",
       "      <td>8.367214</td>\n",
       "      <td>-0.740982</td>\n",
       "      <td>-1.911206</td>\n",
       "      <td>6.807864</td>\n",
       "      <td>-0.997155</td>\n",
       "    </tr>\n",
       "    <tr>\n",
       "      <th>3</th>\n",
       "      <td>0</td>\n",
       "      <td>1</td>\n",
       "      <td>1</td>\n",
       "      <td>2</td>\n",
       "      <td>0</td>\n",
       "      <td>0</td>\n",
       "      <td>-0.789126</td>\n",
       "      <td>1.273283</td>\n",
       "      <td>-0.241473</td>\n",
       "      <td>-0.522785</td>\n",
       "      <td>1.641478</td>\n",
       "      <td>-1.315636</td>\n",
       "      <td>-0.585251</td>\n",
       "      <td>1.661686</td>\n",
       "      <td>-0.734100</td>\n",
       "      <td>2.942843</td>\n",
       "      <td>-0.951758</td>\n",
       "      <td>-1.911206</td>\n",
       "      <td>6.807864</td>\n",
       "      <td>1.759686</td>\n",
       "    </tr>\n",
       "    <tr>\n",
       "      <th>4</th>\n",
       "      <td>0</td>\n",
       "      <td>0</td>\n",
       "      <td>0</td>\n",
       "      <td>2</td>\n",
       "      <td>2</td>\n",
       "      <td>0</td>\n",
       "      <td>-0.789126</td>\n",
       "      <td>0.503368</td>\n",
       "      <td>-1.869317</td>\n",
       "      <td>0.763943</td>\n",
       "      <td>-1.327136</td>\n",
       "      <td>-2.219655</td>\n",
       "      <td>-0.430877</td>\n",
       "      <td>-1.426858</td>\n",
       "      <td>-0.302868</td>\n",
       "      <td>6.455682</td>\n",
       "      <td>-1.056263</td>\n",
       "      <td>-1.570365</td>\n",
       "      <td>7.509325</td>\n",
       "      <td>-0.997155</td>\n",
       "    </tr>\n",
       "  </tbody>\n",
       "</table>\n",
       "</div>"
      ],
      "text/plain": [
       "   binary_attrition  Gender_New  ranked_education  ranked_marital  \\\n",
       "0                 0           0                 1               2   \n",
       "1                 0           1                 3               0   \n",
       "2                 0           0                 3               2   \n",
       "3                 0           1                 1               2   \n",
       "4                 0           0                 0               2   \n",
       "\n",
       "   ranked_income  ranked_card  Customer_Age  Dependent_count  Months_on_book  \\\n",
       "0              2            0     -0.165406         0.503368        0.384621   \n",
       "1              0            0      0.333570         2.043199        1.010715   \n",
       "2              3            0      0.583058         0.503368        0.008965   \n",
       "3              0            0     -0.789126         1.273283       -0.241473   \n",
       "4              2            0     -0.789126         0.503368       -1.869317   \n",
       "\n",
       "   Total_Relationship_Count  Months_Inactive_12_mon  Contacts_Count_12_mon  \\\n",
       "0                  0.763943               -1.327136               0.492404   \n",
       "1                  1.407306               -1.327136              -0.411616   \n",
       "2                  0.120579               -1.327136              -2.219655   \n",
       "3                 -0.522785                1.641478              -1.315636   \n",
       "4                  0.763943               -1.327136              -2.219655   \n",
       "\n",
       "   Credit_Limit  Total_Revolving_Bal  Avg_Open_To_Buy  Total_Amt_Chng_Q4_Q1  \\\n",
       "0      0.446622            -0.473422         0.488971              2.623494   \n",
       "1     -0.041367            -0.366667        -0.008486              3.563293   \n",
       "2     -0.573698            -1.426858        -0.445658              8.367214   \n",
       "3     -0.585251             1.661686        -0.734100              2.942843   \n",
       "4     -0.430877            -1.426858        -0.302868              6.455682   \n",
       "\n",
       "   Total_Trans_Amt  Total_Trans_Ct  Total_Ct_Chng_Q4_Q1  Avg_Utilization_Ratio  \n",
       "0        -0.959707       -0.973895             3.834003              -0.775882  \n",
       "1        -0.916433       -1.357340            12.608573              -0.616276  \n",
       "2        -0.740982       -1.911206             6.807864              -0.997155  \n",
       "3        -0.951758       -1.911206             6.807864               1.759686  \n",
       "4        -1.056263       -1.570365             7.509325              -0.997155  "
      ]
     },
     "execution_count": 68,
     "metadata": {},
     "output_type": "execute_result"
    }
   ],
   "source": [
    "std_df.head()"
   ]
  },
  {
   "cell_type": "code",
   "execution_count": 69,
   "id": "596769a3",
   "metadata": {},
   "outputs": [
    {
     "data": {
      "text/html": [
       "<div>\n",
       "<style scoped>\n",
       "    .dataframe tbody tr th:only-of-type {\n",
       "        vertical-align: middle;\n",
       "    }\n",
       "\n",
       "    .dataframe tbody tr th {\n",
       "        vertical-align: top;\n",
       "    }\n",
       "\n",
       "    .dataframe thead th {\n",
       "        text-align: right;\n",
       "    }\n",
       "</style>\n",
       "<table border=\"1\" class=\"dataframe\">\n",
       "  <thead>\n",
       "    <tr style=\"text-align: right;\">\n",
       "      <th></th>\n",
       "      <th>Customer_Age</th>\n",
       "      <th>Dependent_count</th>\n",
       "      <th>Months_on_book</th>\n",
       "      <th>Total_Relationship_Count</th>\n",
       "      <th>Months_Inactive_12_mon</th>\n",
       "      <th>Contacts_Count_12_mon</th>\n",
       "      <th>Credit_Limit</th>\n",
       "      <th>Total_Revolving_Bal</th>\n",
       "      <th>Avg_Open_To_Buy</th>\n",
       "      <th>Total_Amt_Chng_Q4_Q1</th>\n",
       "      <th>Total_Trans_Amt</th>\n",
       "      <th>Total_Trans_Ct</th>\n",
       "      <th>Total_Ct_Chng_Q4_Q1</th>\n",
       "      <th>Avg_Utilization_Ratio</th>\n",
       "      <th>binary_attrition</th>\n",
       "      <th>Gender_New</th>\n",
       "      <th>ranked_education</th>\n",
       "      <th>ranked_marital</th>\n",
       "      <th>ranked_income</th>\n",
       "      <th>ranked_card</th>\n",
       "    </tr>\n",
       "  </thead>\n",
       "  <tbody>\n",
       "    <tr>\n",
       "      <th>0</th>\n",
       "      <td>45</td>\n",
       "      <td>3</td>\n",
       "      <td>39</td>\n",
       "      <td>5</td>\n",
       "      <td>1</td>\n",
       "      <td>3</td>\n",
       "      <td>12691.0</td>\n",
       "      <td>777</td>\n",
       "      <td>11914.0</td>\n",
       "      <td>1.335</td>\n",
       "      <td>1144</td>\n",
       "      <td>42</td>\n",
       "      <td>1.625</td>\n",
       "      <td>0.061</td>\n",
       "      <td>0</td>\n",
       "      <td>0</td>\n",
       "      <td>1</td>\n",
       "      <td>2</td>\n",
       "      <td>2</td>\n",
       "      <td>0</td>\n",
       "    </tr>\n",
       "    <tr>\n",
       "      <th>1</th>\n",
       "      <td>49</td>\n",
       "      <td>5</td>\n",
       "      <td>44</td>\n",
       "      <td>6</td>\n",
       "      <td>1</td>\n",
       "      <td>2</td>\n",
       "      <td>8256.0</td>\n",
       "      <td>864</td>\n",
       "      <td>7392.0</td>\n",
       "      <td>1.541</td>\n",
       "      <td>1291</td>\n",
       "      <td>33</td>\n",
       "      <td>3.714</td>\n",
       "      <td>0.105</td>\n",
       "      <td>0</td>\n",
       "      <td>1</td>\n",
       "      <td>3</td>\n",
       "      <td>0</td>\n",
       "      <td>0</td>\n",
       "      <td>0</td>\n",
       "    </tr>\n",
       "    <tr>\n",
       "      <th>2</th>\n",
       "      <td>51</td>\n",
       "      <td>3</td>\n",
       "      <td>36</td>\n",
       "      <td>4</td>\n",
       "      <td>1</td>\n",
       "      <td>0</td>\n",
       "      <td>3418.0</td>\n",
       "      <td>0</td>\n",
       "      <td>3418.0</td>\n",
       "      <td>2.594</td>\n",
       "      <td>1887</td>\n",
       "      <td>20</td>\n",
       "      <td>2.333</td>\n",
       "      <td>0.000</td>\n",
       "      <td>0</td>\n",
       "      <td>0</td>\n",
       "      <td>3</td>\n",
       "      <td>2</td>\n",
       "      <td>3</td>\n",
       "      <td>0</td>\n",
       "    </tr>\n",
       "    <tr>\n",
       "      <th>3</th>\n",
       "      <td>40</td>\n",
       "      <td>4</td>\n",
       "      <td>34</td>\n",
       "      <td>3</td>\n",
       "      <td>4</td>\n",
       "      <td>1</td>\n",
       "      <td>3313.0</td>\n",
       "      <td>2517</td>\n",
       "      <td>796.0</td>\n",
       "      <td>1.405</td>\n",
       "      <td>1171</td>\n",
       "      <td>20</td>\n",
       "      <td>2.333</td>\n",
       "      <td>0.760</td>\n",
       "      <td>0</td>\n",
       "      <td>1</td>\n",
       "      <td>1</td>\n",
       "      <td>2</td>\n",
       "      <td>0</td>\n",
       "      <td>0</td>\n",
       "    </tr>\n",
       "    <tr>\n",
       "      <th>4</th>\n",
       "      <td>40</td>\n",
       "      <td>3</td>\n",
       "      <td>21</td>\n",
       "      <td>5</td>\n",
       "      <td>1</td>\n",
       "      <td>0</td>\n",
       "      <td>4716.0</td>\n",
       "      <td>0</td>\n",
       "      <td>4716.0</td>\n",
       "      <td>2.175</td>\n",
       "      <td>816</td>\n",
       "      <td>28</td>\n",
       "      <td>2.500</td>\n",
       "      <td>0.000</td>\n",
       "      <td>0</td>\n",
       "      <td>0</td>\n",
       "      <td>0</td>\n",
       "      <td>2</td>\n",
       "      <td>2</td>\n",
       "      <td>0</td>\n",
       "    </tr>\n",
       "  </tbody>\n",
       "</table>\n",
       "</div>"
      ],
      "text/plain": [
       "   Customer_Age  Dependent_count  Months_on_book  Total_Relationship_Count  \\\n",
       "0            45                3              39                         5   \n",
       "1            49                5              44                         6   \n",
       "2            51                3              36                         4   \n",
       "3            40                4              34                         3   \n",
       "4            40                3              21                         5   \n",
       "\n",
       "   Months_Inactive_12_mon  Contacts_Count_12_mon  Credit_Limit  \\\n",
       "0                       1                      3       12691.0   \n",
       "1                       1                      2        8256.0   \n",
       "2                       1                      0        3418.0   \n",
       "3                       4                      1        3313.0   \n",
       "4                       1                      0        4716.0   \n",
       "\n",
       "   Total_Revolving_Bal  Avg_Open_To_Buy  Total_Amt_Chng_Q4_Q1  \\\n",
       "0                  777          11914.0                 1.335   \n",
       "1                  864           7392.0                 1.541   \n",
       "2                    0           3418.0                 2.594   \n",
       "3                 2517            796.0                 1.405   \n",
       "4                    0           4716.0                 2.175   \n",
       "\n",
       "   Total_Trans_Amt  Total_Trans_Ct  Total_Ct_Chng_Q4_Q1  \\\n",
       "0             1144              42                1.625   \n",
       "1             1291              33                3.714   \n",
       "2             1887              20                2.333   \n",
       "3             1171              20                2.333   \n",
       "4              816              28                2.500   \n",
       "\n",
       "   Avg_Utilization_Ratio  binary_attrition  Gender_New  ranked_education  \\\n",
       "0                  0.061                 0           0                 1   \n",
       "1                  0.105                 0           1                 3   \n",
       "2                  0.000                 0           0                 3   \n",
       "3                  0.760                 0           1                 1   \n",
       "4                  0.000                 0           0                 0   \n",
       "\n",
       "   ranked_marital  ranked_income  ranked_card  \n",
       "0               2              2            0  \n",
       "1               0              0            0  \n",
       "2               2              3            0  \n",
       "3               2              0            0  \n",
       "4               2              2            0  "
      ]
     },
     "execution_count": 69,
     "metadata": {},
     "output_type": "execute_result"
    }
   ],
   "source": [
    "non_std_df.head()"
   ]
  },
  {
   "cell_type": "markdown",
   "id": "a0ed7b2c",
   "metadata": {},
   "source": [
    "We can re-check the multicollinearity with our standardized dataset:"
   ]
  },
  {
   "cell_type": "code",
   "execution_count": 70,
   "id": "c612f672",
   "metadata": {},
   "outputs": [
    {
     "name": "stdout",
     "output_type": "stream",
     "text": [
      "                     feature       VIF\n",
      "0           binary_attrition  1.886556\n",
      "1                 Gender_New  2.692031\n",
      "2           ranked_education  3.050694\n",
      "3             ranked_marital  2.310056\n",
      "4              ranked_income  2.623313\n",
      "5                ranked_card  1.485175\n",
      "6               Customer_Age  2.678988\n",
      "7            Dependent_count  1.033206\n",
      "8             Months_on_book  2.658738\n",
      "9   Total_Relationship_Count  1.207560\n",
      "10    Months_Inactive_12_mon  1.033025\n",
      "11     Contacts_Count_12_mon  1.063238\n",
      "12              Credit_Limit       inf\n",
      "13       Total_Revolving_Bal       inf\n",
      "14           Avg_Open_To_Buy       inf\n",
      "15      Total_Amt_Chng_Q4_Q1  1.195975\n",
      "16           Total_Trans_Amt  3.489918\n",
      "17            Total_Trans_Ct  3.755886\n",
      "18       Total_Ct_Chng_Q4_Q1  1.265297\n",
      "19     Avg_Utilization_Ratio  2.940942\n"
     ]
    },
    {
     "name": "stderr",
     "output_type": "stream",
     "text": [
      "C:\\Users\\orteg\\anaconda3\\lib\\site-packages\\statsmodels\\stats\\outliers_influence.py:193: RuntimeWarning: divide by zero encountered in double_scalars\n",
      "  vif = 1. / (1. - r_squared_i)\n"
     ]
    }
   ],
   "source": [
    "vif_data = pd.DataFrame()\n",
    "vif_data[\"feature\"] = std_df.columns\n",
    "  \n",
    "# calculating VIF for each feature\n",
    "vif_data[\"VIF\"] = [variance_inflation_factor(std_df.values, i)\n",
    "                          for i in range(len(std_df.columns))]\n",
    "  \n",
    "print(vif_data)"
   ]
  },
  {
   "cell_type": "markdown",
   "id": "eaa2b5fa",
   "metadata": {},
   "source": [
    "Since the results still show credit limit, total revolving balance, and average open to buy with an extremely high VIF value, dropping one of those columns seems necessary. Based on interest, average open to buy was dropped."
   ]
  },
  {
   "cell_type": "code",
   "execution_count": 71,
   "id": "00465956",
   "metadata": {},
   "outputs": [
    {
     "name": "stdout",
     "output_type": "stream",
     "text": [
      "                     feature       VIF\n",
      "0           binary_attrition  1.886556\n",
      "1                 Gender_New  2.692031\n",
      "2           ranked_education  3.050694\n",
      "3             ranked_marital  2.310056\n",
      "4              ranked_income  2.623313\n",
      "5                ranked_card  1.485175\n",
      "6               Customer_Age  2.678988\n",
      "7            Dependent_count  1.033206\n",
      "8             Months_on_book  2.658738\n",
      "9   Total_Relationship_Count  1.207560\n",
      "10    Months_Inactive_12_mon  1.033025\n",
      "11     Contacts_Count_12_mon  1.063238\n",
      "12              Credit_Limit  2.609588\n",
      "13       Total_Revolving_Bal  2.312918\n",
      "14      Total_Amt_Chng_Q4_Q1  1.195975\n",
      "15           Total_Trans_Amt  3.489918\n",
      "16            Total_Trans_Ct  3.755886\n",
      "17       Total_Ct_Chng_Q4_Q1  1.265297\n",
      "18     Avg_Utilization_Ratio  2.940942\n"
     ]
    }
   ],
   "source": [
    "new_std_df = std_df.drop(['Avg_Open_To_Buy'], axis = 1)\n",
    "\n",
    "vif_data = pd.DataFrame()\n",
    "vif_data[\"feature\"] = new_std_df.columns\n",
    "  \n",
    "# calculating VIF for each feature\n",
    "vif_data[\"VIF\"] = [variance_inflation_factor(new_std_df.values, i)\n",
    "                          for i in range(len(new_std_df.columns))]\n",
    "  \n",
    "print(vif_data)"
   ]
  },
  {
   "cell_type": "markdown",
   "id": "c6566503",
   "metadata": {},
   "source": [
    "With the 'Avg_Open_To_Buy' column removed, all the other columns indicate a relatively low level of multicollinearity. This change will help improve our future analysis because strong multicollinearity can produce misleading results and possibly overlook significant predictors."
   ]
  },
  {
   "cell_type": "markdown",
   "id": "1a1b0dfe",
   "metadata": {},
   "source": [
    "## Splitting the Data"
   ]
  },
  {
   "cell_type": "markdown",
   "id": "1a7a1a6d",
   "metadata": {},
   "source": [
    "Before moving on the next parts of the project, we must split the processed datasets. The data can be split many ways. In this case, we will be using an 80-20 split between training and test data."
   ]
  },
  {
   "cell_type": "code",
   "execution_count": 72,
   "id": "7a500fa5",
   "metadata": {},
   "outputs": [],
   "source": [
    "from sklearn.model_selection import train_test_split "
   ]
  },
  {
   "cell_type": "code",
   "execution_count": 73,
   "id": "f22d849c",
   "metadata": {},
   "outputs": [],
   "source": [
    "#Standard\n",
    "predictors_std = new_std_df.drop(['binary_attrition'], axis = 1)\n",
    "target_std = new_std_df['binary_attrition']\n",
    "\n",
    "#Non-Standard\n",
    "predictors_non_std = non_std_df.drop(['binary_attrition'], axis = 1)\n",
    "target_non_std = non_std_df['binary_attrition']"
   ]
  },
  {
   "cell_type": "code",
   "execution_count": 74,
   "id": "a72f186c",
   "metadata": {},
   "outputs": [],
   "source": [
    "#Standard Split\n",
    "pred_std_train, pred_std_test, tar_std_train, tar_std_test = train_test_split(predictors_std, target_std, \n",
    "                                                                    test_size = 0.2,  random_state = 42)\n",
    "\n",
    "#Non-Standard Split\n",
    "pred_non_std_train, pred_non_std_test, tar_non_std_train, tar_non_std_test = train_test_split(predictors_non_std, target_non_std\n",
    "                                                                                             , test_size = 0.2,\n",
    "                                                                                             random_state = 42)"
   ]
  },
  {
   "cell_type": "markdown",
   "id": "3c388c81",
   "metadata": {},
   "source": [
    "## Dealing with the Unbalanced Data"
   ]
  },
  {
   "cell_type": "markdown",
   "id": "73e5c040",
   "metadata": {},
   "source": [
    "Now that we have standardized and split our data sufficiently, we can now consider another issue–sampling. Currently our dataset is extremely unbalanced with existing customers making up a large portion of the data. With such a large imbalance, our models will naturally sway towards predicting existing customers solely based on the imbalance. To counter this issue, we can employ a few different methods: (These methods will only be used on the training data)"
   ]
  },
  {
   "cell_type": "markdown",
   "id": "952f7867",
   "metadata": {},
   "source": [
    "A library called imblearn contains all of the methods we will be using. This library was downloaded using pip install."
   ]
  },
  {
   "cell_type": "code",
   "execution_count": 75,
   "id": "5766ea3e",
   "metadata": {},
   "outputs": [],
   "source": [
    "from collections import Counter #Will be used to count the occurrences of each method's results\n",
    "import imblearn"
   ]
  },
  {
   "cell_type": "markdown",
   "id": "831c172d",
   "metadata": {},
   "source": [
    "#### Random Over-Sampling"
   ]
  },
  {
   "cell_type": "markdown",
   "id": "b95c11c0",
   "metadata": {},
   "source": [
    "Oversampling involves adding copies of the minority class to balance the dataset."
   ]
  },
  {
   "cell_type": "code",
   "execution_count": 76,
   "id": "e4bff901",
   "metadata": {},
   "outputs": [],
   "source": [
    "from imblearn.over_sampling import RandomOverSampler"
   ]
  },
  {
   "cell_type": "markdown",
   "id": "1d12b8db",
   "metadata": {},
   "source": [
    "This library will allow us to randomly sample the minority class, with replacement, until it matches the majority class count."
   ]
  },
  {
   "cell_type": "code",
   "execution_count": 77,
   "id": "f3495690",
   "metadata": {},
   "outputs": [],
   "source": [
    "ros = RandomOverSampler(sampling_strategy='minority', random_state = 42)\n",
    "X_ros_std, y_ros_std = ros.fit_resample(pred_std_train, tar_std_train)\n",
    "X_ros_non_std, y_ros_non_std = ros.fit_resample(pred_non_std_train, tar_non_std_train)"
   ]
  },
  {
   "cell_type": "code",
   "execution_count": 78,
   "id": "e919a3b9",
   "metadata": {},
   "outputs": [
    {
     "name": "stdout",
     "output_type": "stream",
     "text": [
      "Standardized data with Random Over-Sampling: Counter({0: 6801, 1: 6801})\n",
      "Non-Standardized data with Random Over-Sampling: Counter({0: 6801, 1: 6801})\n"
     ]
    }
   ],
   "source": [
    "print(f\"Standardized data with Random Over-Sampling: {Counter(y_ros_std)}\")\n",
    "print(f\"Non-Standardized data with Random Over-Sampling: {Counter(y_ros_non_std)}\")"
   ]
  },
  {
   "cell_type": "markdown",
   "id": "4370e5da",
   "metadata": {},
   "source": [
    "#### SMOTE"
   ]
  },
  {
   "cell_type": "markdown",
   "id": "4ceb20ea",
   "metadata": {},
   "source": [
    "The Synthetic Minority Oversampling Technique generates synthetic data from our minority class to balance the dataset. It is considered another kind of ROS."
   ]
  },
  {
   "cell_type": "code",
   "execution_count": 79,
   "id": "cc93da60",
   "metadata": {},
   "outputs": [],
   "source": [
    "from imblearn.over_sampling import SMOTE"
   ]
  },
  {
   "cell_type": "code",
   "execution_count": 80,
   "id": "f1838647",
   "metadata": {},
   "outputs": [],
   "source": [
    "smote = SMOTE(sampling_strategy = 'minority', random_state = 42)\n",
    "X_smote_std, y_smote_std = smote.fit_resample(pred_std_train, tar_std_train)\n",
    "X_smote_non_std, y_smote_non_std = smote.fit_resample(pred_non_std_train, tar_non_std_train)"
   ]
  },
  {
   "cell_type": "code",
   "execution_count": 81,
   "id": "315882eb",
   "metadata": {},
   "outputs": [
    {
     "name": "stdout",
     "output_type": "stream",
     "text": [
      "Standardized data with SMOTE Random Over-Sampling: Counter({0: 6801, 1: 6801})\n",
      "Non-Standardized data with SMOTE Random Over-Sampling: Counter({0: 6801, 1: 6801})\n"
     ]
    }
   ],
   "source": [
    "print(f\"Standardized data with SMOTE Random Over-Sampling: {Counter(y_smote_std)}\")\n",
    "print(f\"Non-Standardized data with SMOTE Random Over-Sampling: {Counter(y_smote_non_std)}\")"
   ]
  },
  {
   "cell_type": "markdown",
   "id": "a232eac0",
   "metadata": {},
   "source": [
    "#### Random Under-Sampling"
   ]
  },
  {
   "cell_type": "markdown",
   "id": "c45e5f33",
   "metadata": {},
   "source": [
    "Random under-sampling randomly selects a subset of the data that has an equal amount of all classifications. In this case, the number of existing customers will be reduced."
   ]
  },
  {
   "cell_type": "code",
   "execution_count": 82,
   "id": "fbe1c9a0",
   "metadata": {},
   "outputs": [],
   "source": [
    "from imblearn.under_sampling import RandomUnderSampler"
   ]
  },
  {
   "cell_type": "code",
   "execution_count": 83,
   "id": "2d79d035",
   "metadata": {},
   "outputs": [],
   "source": [
    "rus = RandomUnderSampler(sampling_strategy='majority', random_state = 42, replacement = False)\n",
    "X_rus_std, y_rus_std = rus.fit_resample(pred_std_train, tar_std_train)\n",
    "X_rus_non_std, y_rus_non_std = rus.fit_resample(pred_non_std_train, tar_non_std_train)"
   ]
  },
  {
   "cell_type": "markdown",
   "id": "2fc4f721",
   "metadata": {},
   "source": [
    "Note: RUS has the option to use replacement. We have elected not to use replacement."
   ]
  },
  {
   "cell_type": "markdown",
   "id": "7bbd1080",
   "metadata": {},
   "source": [
    "#### Note: We will also be using the training data that does not incorporate a sampling method. This will be used to compare the improvements."
   ]
  },
  {
   "cell_type": "markdown",
   "id": "bcd44a16",
   "metadata": {},
   "source": [
    "## Models and Metrics"
   ]
  },
  {
   "cell_type": "markdown",
   "id": "fb58c335",
   "metadata": {},
   "source": [
    "Now that we have completed the processing stages, we can now begin to test our predictors. First, we will lay out the metrics that we will be using."
   ]
  },
  {
   "cell_type": "code",
   "execution_count": 84,
   "id": "3be22aff",
   "metadata": {},
   "outputs": [],
   "source": [
    "from sklearn.metrics import (confusion_matrix, classification_report, precision_score, \n",
    "recall_score, f1_score, RocCurveDisplay, PrecisionRecallDisplay, accuracy_score)\n",
    "from sklearn.model_selection import cross_val_predict, cross_val_score\n",
    "from sklearn.metrics import roc_auc_score"
   ]
  },
  {
   "cell_type": "markdown",
   "id": "5de517d5",
   "metadata": {},
   "source": [
    "All of the metrics we use comes from the sklearn.metrics library."
   ]
  },
  {
   "cell_type": "markdown",
   "id": "3b2c670e",
   "metadata": {},
   "source": [
    "### How will we produce our metrics?"
   ]
  },
  {
   "cell_type": "markdown",
   "id": "c7d3ed53",
   "metadata": {},
   "source": [
    "Each algorithm will call the below function and spit out a series of relevant metrics. Below is a description of all the metrics and graphs used."
   ]
  },
  {
   "cell_type": "code",
   "execution_count": 85,
   "id": "aca68ef3",
   "metadata": {},
   "outputs": [],
   "source": [
    "sampling = [\"Oversampling\", \"SMOTE\", \"Undersampling\", \"None\"]\n",
    "models = [\"KNN\",\"SGD\",\"Decision Tree\", \"Random Forests\", \"SVM\", \"Soft Voting\"]\n",
    "def metricDisplay(model, sampling_type, algorithm, pred_test, tar_test, pred_train, tar_train):\n",
    "    combined_name = model + \"(\" + sampling_type + \")\"\n",
    "    print(\"Metrics Regarding Training Data:\")\n",
    "    #Cross value predict for our training data. Due to how weird cross value prediction is, I might just substitue \n",
    "    #it for regular prediction.\n",
    "    #Format for ARGS: [CLASSIFIER], predictors_[under, over, smote]_train, target_[under, over, smote]_train, cv= 10\n",
    "    algorithm_predict_train = cross_val_predict(algorithm, pred_train, tar_train, cv=10)\n",
    "    #These are just the verbose versions of the classification report. Can remove depending on needs.\n",
    "    # Use same format as above. \n",
    "    print (f\"Train Precision Score for {combined_name}: \", precision_score(tar_train, algorithm_predict_train))\n",
    "    print (f\"Train Recall Score for {combined_name} \" , recall_score(tar_train, algorithm_predict_train))\n",
    "    print (f\"Train F1 Score for {combined_name} \" , f1_score(tar_train, algorithm_predict_train))\n",
    "\n",
    "\n",
    "    #Basically the holy grail of all our metrics excluding graphs.\n",
    "    # ARGS: target_[over, under, smote]_train, [CLASSIFIER NAME]_[over, under, smote]_predict_train\n",
    "    print(classification_report(tar_train, algorithm_predict_train))\n",
    "\n",
    "\n",
    "    print(\"Metrics Regarding Test Data:\")\n",
    "    #Same thing as cross val predict, but a regular prediction and without the target. Also, use test instead. \n",
    "    algorithm_predict_test = algorithm.predict(pred_test)\n",
    "    print (f\"Test Precision Score for {combined_name}: \", precision_score(tar_test, algorithm_predict_test))\n",
    "    print (f\"Test Recall Score for {combined_name}: \" , recall_score(tar_test, algorithm_predict_test))\n",
    "    print (f\"Test F1 Score for {combined_name}: \" , f1_score(tar_test, algorithm_predict_test))\n",
    "    \n",
    "    #Same as above but use test instead.\n",
    "    print(classification_report(tar_test, algorithm_predict_test))\n",
    "\n",
    "    \n",
    "    RocCurveDisplay.from_predictions(tar_test, algorithm_predict_test, name = combined_name)\n",
    "    plt.show()\n",
    "    #Verbose ROC AUC score. \n",
    "    print(f\"ROC AUC Score for {model} ({sampling_type}):\", roc_auc_score(tar_test, algorithm_predict_test))\n",
    "\n",
    "\n",
    "\n",
    "    PrecisionRecallDisplay.from_predictions(tar_test, algorithm_predict_test, name = combined_name)\n",
    "    plt.show()"
   ]
  },
  {
   "cell_type": "markdown",
   "id": "c8c99557",
   "metadata": {},
   "source": [
    "#### Confusion Matrix"
   ]
  },
  {
   "cell_type": "markdown",
   "id": "c42a2ba2",
   "metadata": {},
   "source": [
    "This is a 2X2 matirx that is calculated based on the performance of an algorithm. The parameters are true positive (TP), false positive (FP), true negative (TN), and false negative (FN)."
   ]
  },
  {
   "cell_type": "markdown",
   "id": "5411e218",
   "metadata": {},
   "source": [
    "#### Precision"
   ]
  },
  {
   "cell_type": "markdown",
   "id": "5a444ac1",
   "metadata": {},
   "source": [
    "$$\\text{Precision }= \\frac{TP}{TP + FP}$$"
   ]
  },
  {
   "cell_type": "markdown",
   "id": "5deb9986",
   "metadata": {},
   "source": [
    "Measures the number of true positives over TP plus total false positives. In our case, a true positive is an attrited customer that was correctly identified. This metric is the proportion of attrited customers that were identified correctly over that same number plus those that were labeled attrited but were actually existing."
   ]
  },
  {
   "cell_type": "markdown",
   "id": "bdbe9b7c",
   "metadata": {},
   "source": [
    "#### Recall"
   ]
  },
  {
   "cell_type": "markdown",
   "id": "b8e031cd",
   "metadata": {},
   "source": [
    "$$\\text{Recall }= \\frac{TP}{TP + FN}$$"
   ]
  },
  {
   "cell_type": "markdown",
   "id": "3cad6f7d",
   "metadata": {},
   "source": [
    "Measures the total TP over total TP plus total FN. The proportion of attrited customers identified correctly over that same number plus those that were incorrectly labeled as existing."
   ]
  },
  {
   "cell_type": "markdown",
   "id": "c2f37dce",
   "metadata": {},
   "source": [
    "#### F1 Score"
   ]
  },
  {
   "cell_type": "markdown",
   "id": "110a8bfa",
   "metadata": {},
   "source": [
    "$$\\text{F1 }= \\frac{2*(Precision * Recall)}{Precision + Recall}$$"
   ]
  },
  {
   "cell_type": "markdown",
   "id": "0a77508c",
   "metadata": {},
   "source": [
    "The F1 score is the harmonic mean of both the precision and recall. This metric displays the model's ability to capture positive cases and and be accurate with cases it does capture."
   ]
  },
  {
   "cell_type": "markdown",
   "id": "d66dd427",
   "metadata": {},
   "source": [
    "#### ROC AUC Score"
   ]
  },
  {
   "cell_type": "markdown",
   "id": "f41bc01a",
   "metadata": {},
   "source": [
    "This metric measures the area under the curve of a Receiver Operating Characteristic (ROC) graph. The score represents the model's ability to predict classes correctly. In our project, the ROC curve will be plotted. Another graph comparing precision and recall will also be displayed."
   ]
  },
  {
   "cell_type": "markdown",
   "id": "acf97fac",
   "metadata": {},
   "source": [
    "### What models are we using?"
   ]
  },
  {
   "cell_type": "markdown",
   "id": "a76ffdb1",
   "metadata": {},
   "source": [
    "The list of models we will be using are as follow:"
   ]
  },
  {
   "cell_type": "markdown",
   "id": "202e5ba0",
   "metadata": {},
   "source": [
    "#### KNN K-Neaest Neighbors"
   ]
  },
  {
   "cell_type": "markdown",
   "id": "c7c1f5f9",
   "metadata": {},
   "source": [
    "A non-parametric, supervised learning classifier, which uses proximity to make classifications or predictions about the grouping of an individual data point."
   ]
  },
  {
   "cell_type": "code",
   "execution_count": 86,
   "id": "a6f7816e",
   "metadata": {},
   "outputs": [],
   "source": [
    "from sklearn.neighbors import KNeighborsClassifier as knn"
   ]
  },
  {
   "cell_type": "markdown",
   "id": "0a1628eb",
   "metadata": {},
   "source": [
    "#### SGD Stochastic Gradient Descent"
   ]
  },
  {
   "cell_type": "markdown",
   "id": "c505ca02",
   "metadata": {},
   "source": [
    "An iterative algorithm that starts from a random point on a function and travels down its slope in steps until it reaches the lowest point of that function"
   ]
  },
  {
   "cell_type": "code",
   "execution_count": 87,
   "id": "a5d5e966",
   "metadata": {},
   "outputs": [],
   "source": [
    "from sklearn.linear_model import SGDClassifier as sgd"
   ]
  },
  {
   "cell_type": "markdown",
   "id": "5d112a7c",
   "metadata": {},
   "source": [
    "#### Decision Tree"
   ]
  },
  {
   "cell_type": "markdown",
   "id": "30b18f52",
   "metadata": {},
   "source": [
    "A non-parametric supervised learning algorithm, which is utilized for both classification and regression tasks. It has a hierarchical, tree structure, which consists of a root node, branches, internal nodes and leaf nodes."
   ]
  },
  {
   "cell_type": "code",
   "execution_count": 88,
   "id": "421ee99c",
   "metadata": {},
   "outputs": [],
   "source": [
    "from sklearn.tree import DecisionTreeClassifier"
   ]
  },
  {
   "cell_type": "markdown",
   "id": "8bd2e50d",
   "metadata": {},
   "source": [
    "#### Random Forests"
   ]
  },
  {
   "cell_type": "markdown",
   "id": "d51a0e84",
   "metadata": {},
   "source": [
    "An ensemble learning method for classification, regression and other tasks that operates by constructing a multitude of decision trees at training time."
   ]
  },
  {
   "cell_type": "code",
   "execution_count": 89,
   "id": "7493caab",
   "metadata": {},
   "outputs": [],
   "source": [
    "from sklearn.ensemble import RandomForestClassifier"
   ]
  },
  {
   "cell_type": "markdown",
   "id": "54920bf4",
   "metadata": {},
   "source": [
    "#### SVM Support Vector Machine"
   ]
  },
  {
   "cell_type": "markdown",
   "id": "80fbee24",
   "metadata": {},
   "source": [
    "Finds a hyperplane in an N-dimensional space that distinctly classifies the data points."
   ]
  },
  {
   "cell_type": "code",
   "execution_count": 90,
   "id": "2bc498c6",
   "metadata": {},
   "outputs": [],
   "source": [
    "from sklearn import svm"
   ]
  },
  {
   "cell_type": "markdown",
   "id": "85fac3dc",
   "metadata": {},
   "source": [
    "#### Soft Voting Ensemble Method"
   ]
  },
  {
   "cell_type": "markdown",
   "id": "9f55f899",
   "metadata": {},
   "source": [
    "Involves summing the predicted probabilities for class labels and predicting the class label with the largest sum probability."
   ]
  },
  {
   "cell_type": "code",
   "execution_count": 91,
   "id": "e29fecab",
   "metadata": {},
   "outputs": [],
   "source": [
    "from sklearn.ensemble import VotingClassifier"
   ]
  },
  {
   "cell_type": "markdown",
   "id": "7fadf1a0",
   "metadata": {},
   "source": [
    "## Modeling"
   ]
  },
  {
   "cell_type": "markdown",
   "id": "138b325f",
   "metadata": {},
   "source": [
    "### KNN (n = 5)"
   ]
  },
  {
   "cell_type": "markdown",
   "id": "8bc51220",
   "metadata": {},
   "source": [
    "#### Base"
   ]
  },
  {
   "cell_type": "code",
   "execution_count": 92,
   "id": "658f0759",
   "metadata": {},
   "outputs": [
    {
     "name": "stdout",
     "output_type": "stream",
     "text": [
      "Metrics Regarding Training Data:\n",
      "Train Precision Score for KNN(None):  0.7978142076502732\n",
      "Train Recall Score for KNN(None)  0.5615384615384615\n",
      "Train F1 Score for KNN(None)  0.6591422121896162\n",
      "              precision    recall  f1-score   support\n",
      "\n",
      "           0       0.92      0.97      0.95      6801\n",
      "           1       0.80      0.56      0.66      1300\n",
      "\n",
      "    accuracy                           0.91      8101\n",
      "   macro avg       0.86      0.77      0.80      8101\n",
      "weighted avg       0.90      0.91      0.90      8101\n",
      "\n",
      "Metrics Regarding Test Data:\n",
      "Test Precision Score for KNN(None):  0.8333333333333334\n",
      "Test Recall Score for KNN(None):  0.5045871559633027\n",
      "Test F1 Score for KNN(None):  0.6285714285714286\n",
      "              precision    recall  f1-score   support\n",
      "\n",
      "           0       0.91      0.98      0.94      1699\n",
      "           1       0.83      0.50      0.63       327\n",
      "\n",
      "    accuracy                           0.90      2026\n",
      "   macro avg       0.87      0.74      0.79      2026\n",
      "weighted avg       0.90      0.90      0.89      2026\n",
      "\n"
     ]
    },
    {
     "data": {
      "image/png": "[encoded data removed]",
      "text/plain": [
       "<Figure size 432x288 with 1 Axes>"
      ]
     },
     "metadata": {
      "needs_background": "light"
     },
     "output_type": "display_data"
    },
    {
     "name": "stdout",
     "output_type": "stream",
     "text": [
      "ROC AUC Score for KNN (None): 0.7425819829257361\n"
     ]
    },
    {
     "data": {
      "image/png": "[encoded data removed]",
      "text/plain": [
       "<Figure size 432x288 with 1 Axes>"
      ]
     },
     "metadata": {
      "needs_background": "light"
     },
     "output_type": "display_data"
    }
   ],
   "source": [
    "knn_new = knn(n_neighbors=5)\n",
    "algorithm = knn_new.fit(pred_std_train, tar_std_train)\n",
    "metricDisplay(models[0], sampling[3], algorithm, pred_std_test, tar_std_test, pred_std_train, tar_std_train)"
   ]
  },
  {
   "cell_type": "markdown",
   "id": "fd2337ac",
   "metadata": {},
   "source": [
    "#### Random Over-Sampling"
   ]
  },
  {
   "cell_type": "code",
   "execution_count": 93,
   "id": "f44f5466",
   "metadata": {},
   "outputs": [
    {
     "name": "stdout",
     "output_type": "stream",
     "text": [
      "Metrics Regarding Training Data:\n",
      "Train Precision Score for KNN(Oversampling):  0.8770060510392003\n",
      "Train Recall Score for KNN(Oversampling)  0.9802970151448317\n",
      "Train F1 Score for KNN(Oversampling)  0.925779351523988\n",
      "              precision    recall  f1-score   support\n",
      "\n",
      "           0       0.98      0.86      0.92      6801\n",
      "           1       0.88      0.98      0.93      6801\n",
      "\n",
      "    accuracy                           0.92     13602\n",
      "   macro avg       0.93      0.92      0.92     13602\n",
      "weighted avg       0.93      0.92      0.92     13602\n",
      "\n",
      "Metrics Regarding Test Data:\n",
      "Test Precision Score for KNN(Oversampling):  0.5515021459227468\n",
      "Test Recall Score for KNN(Oversampling):  0.7859327217125383\n",
      "Test F1 Score for KNN(Oversampling):  0.6481715006305171\n",
      "              precision    recall  f1-score   support\n",
      "\n",
      "           0       0.96      0.88      0.91      1699\n",
      "           1       0.55      0.79      0.65       327\n",
      "\n",
      "    accuracy                           0.86      2026\n",
      "   macro avg       0.75      0.83      0.78      2026\n",
      "weighted avg       0.89      0.86      0.87      2026\n",
      "\n"
     ]
    },
    {
     "data": {
      "image/png": "[encoded data removed]",
      "text/plain": [
       "<Figure size 432x288 with 1 Axes>"
      ]
     },
     "metadata": {
      "needs_background": "light"
     },
     "output_type": "display_data"
    },
    {
     "name": "stdout",
     "output_type": "stream",
     "text": [
      "ROC AUC Score for KNN (Oversampling): 0.8314595921688059\n"
     ]
    },
    {
     "data": {
      "image/png": "[encoded data removed]",
      "text/plain": [
       "<Figure size 432x288 with 1 Axes>"
      ]
     },
     "metadata": {
      "needs_background": "light"
     },
     "output_type": "display_data"
    }
   ],
   "source": [
    "knn_new = knn(n_neighbors=5)\n",
    "algorithm = knn_new.fit(X_ros_std, y_ros_std)\n",
    "metricDisplay(models[0], sampling[0], algorithm, pred_std_test, tar_std_test, X_ros_std, y_ros_std)"
   ]
  },
  {
   "cell_type": "markdown",
   "id": "08d53385",
   "metadata": {},
   "source": [
    "#### SMOTE"
   ]
  },
  {
   "cell_type": "code",
   "execution_count": 94,
   "id": "97eccf58",
   "metadata": {},
   "outputs": [
    {
     "name": "stdout",
     "output_type": "stream",
     "text": [
      "Metrics Regarding Training Data:\n",
      "Train Precision Score for KNN(SMOTE):  0.880119620335457\n",
      "Train Recall Score for KNN(SMOTE)  0.9952948095868255\n",
      "Train F1 Score for KNN(SMOTE)  0.9341705768699973\n",
      "              precision    recall  f1-score   support\n",
      "\n",
      "           0       0.99      0.86      0.92      6801\n",
      "           1       0.88      1.00      0.93      6801\n",
      "\n",
      "    accuracy                           0.93     13602\n",
      "   macro avg       0.94      0.93      0.93     13602\n",
      "weighted avg       0.94      0.93      0.93     13602\n",
      "\n",
      "Metrics Regarding Test Data:\n",
      "Test Precision Score for KNN(SMOTE):  0.5389221556886228\n",
      "Test Recall Score for KNN(SMOTE):  0.8256880733944955\n",
      "Test F1 Score for KNN(SMOTE):  0.6521739130434784\n",
      "              precision    recall  f1-score   support\n",
      "\n",
      "           0       0.96      0.86      0.91      1699\n",
      "           1       0.54      0.83      0.65       327\n",
      "\n",
      "    accuracy                           0.86      2026\n",
      "   macro avg       0.75      0.84      0.78      2026\n",
      "weighted avg       0.89      0.86      0.87      2026\n",
      "\n"
     ]
    },
    {
     "data": {
      "image/png": "[encoded data removed]",
      "text/plain": [
       "<Figure size 432x288 with 1 Axes>"
      ]
     },
     "metadata": {
      "needs_background": "light"
     },
     "output_type": "display_data"
    },
    {
     "name": "stdout",
     "output_type": "stream",
     "text": [
      "ROC AUC Score for KNN (SMOTE): 0.844862871305841\n"
     ]
    },
    {
     "data": {
      "image/png": "[encoded data removed]",
      "text/plain": [
       "<Figure size 432x288 with 1 Axes>"
      ]
     },
     "metadata": {
      "needs_background": "light"
     },
     "output_type": "display_data"
    }
   ],
   "source": [
    "knn_new = knn(n_neighbors=5)\n",
    "algorithm = knn_new.fit(X_smote_std, y_smote_std)\n",
    "metricDisplay(models[0], sampling[1], algorithm, pred_std_test, tar_std_test, X_smote_std, y_smote_std)"
   ]
  },
  {
   "cell_type": "markdown",
   "id": "fba56baa",
   "metadata": {},
   "source": [
    "#### Random Under-Sampling"
   ]
  },
  {
   "cell_type": "code",
   "execution_count": 95,
   "id": "d092b34a",
   "metadata": {},
   "outputs": [
    {
     "name": "stdout",
     "output_type": "stream",
     "text": [
      "Metrics Regarding Training Data:\n",
      "Train Precision Score for KNN(SMOTE):  0.8443251533742331\n",
      "Train Recall Score for KNN(SMOTE)  0.8469230769230769\n",
      "Train F1 Score for KNN(SMOTE)  0.8456221198156681\n",
      "              precision    recall  f1-score   support\n",
      "\n",
      "           0       0.85      0.84      0.85      1300\n",
      "           1       0.84      0.85      0.85      1300\n",
      "\n",
      "    accuracy                           0.85      2600\n",
      "   macro avg       0.85      0.85      0.85      2600\n",
      "weighted avg       0.85      0.85      0.85      2600\n",
      "\n",
      "Metrics Regarding Test Data:\n",
      "Test Precision Score for KNN(SMOTE):  0.49536178107606677\n",
      "Test Recall Score for KNN(SMOTE):  0.8165137614678899\n",
      "Test F1 Score for KNN(SMOTE):  0.6166281755196305\n",
      "              precision    recall  f1-score   support\n",
      "\n",
      "           0       0.96      0.84      0.90      1699\n",
      "           1       0.50      0.82      0.62       327\n",
      "\n",
      "    accuracy                           0.84      2026\n",
      "   macro avg       0.73      0.83      0.76      2026\n",
      "weighted avg       0.88      0.84      0.85      2026\n",
      "\n"
     ]
    },
    {
     "data": {
      "image/png": "[encoded data removed]",
      "text/plain": [
       "<Figure size 432x288 with 1 Axes>"
      ]
     },
     "metadata": {
      "needs_background": "light"
     },
     "output_type": "display_data"
    },
    {
     "name": "stdout",
     "output_type": "stream",
     "text": [
      "ROC AUC Score for KNN (SMOTE): 0.8282097942124618\n"
     ]
    },
    {
     "data": {
      "image/png": "[encoded data removed]",
      "text/plain": [
       "<Figure size 432x288 with 1 Axes>"
      ]
     },
     "metadata": {
      "needs_background": "light"
     },
     "output_type": "display_data"
    }
   ],
   "source": [
    "knn_new = knn(n_neighbors=5)\n",
    "algorithm = knn_new.fit(X_rus_std, y_rus_std)\n",
    "metricDisplay(models[0], sampling[1], algorithm, pred_std_test, tar_std_test, X_rus_std, y_rus_std)"
   ]
  },
  {
   "cell_type": "code",
   "execution_count": null,
   "id": "01340b2b",
   "metadata": {},
   "outputs": [],
   "source": []
  }
 ],
 "metadata": {
  "kernelspec": {
   "display_name": "Python 3 (ipykernel)",
   "language": "python",
   "name": "python3"
  },
  "language_info": {
   "codemirror_mode": {
    "name": "ipython",
    "version": 3
   },
   "file_extension": ".py",
   "mimetype": "text/x-python",
   "name": "python",
   "nbconvert_exporter": "python",
   "pygments_lexer": "ipython3",
   "version": "3.9.7"
  }
 },
 "nbformat": 4,
 "nbformat_minor": 5
}
